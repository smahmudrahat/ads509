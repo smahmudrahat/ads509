{
 "cells": [
  {
   "cell_type": "markdown",
   "id": "bce2bb89",
   "metadata": {},
   "source": [
    "# ADS 509 Assignment 5.1: Topic Modeling\n",
    "\n",
    "This notebook holds Assignment 5.1 for Module 5 in ADS 509, Applied Text Mining. Work through this notebook, writing code and answering questions where required. \n",
    "\n",
    "In this assignment you will work with a categorical corpus that accompanies `nltk`. You will build the three types of topic models described in Chapter 8 of _Blueprints for Text Analytics using Python_: NMF, LSA, and LDA. You will compare these models to the true categories. \n"
   ]
  },
  {
   "cell_type": "markdown",
   "id": "d87e2c06",
   "metadata": {},
   "source": [
    "## General Assignment Instructions\n",
    "\n",
    "These instructions are included in every assignment, to remind you of the coding standards for the class. Feel free to delete this cell after reading it. \n",
    "\n",
    "One sign of mature code is conforming to a style guide. We recommend the [Google Python Style Guide](https://google.github.io/styleguide/pyguide.html). If you use a different style guide, please include a cell with a link. \n",
    "\n",
    "Your code should be relatively easy-to-read, sensibly commented, and clean. Writing code is a messy process, so please be sure to edit your final submission. Remove any cells that are not needed or parts of cells that contain unnecessary code. Remove inessential `import` statements and make sure that all such statements are moved into the designated cell. \n",
    "\n",
    "Make use of non-code cells for written commentary. These cells should be grammatical and clearly written. In some of these cells you will have questions to answer. The questions will be marked by a \"Q:\" and will have a corresponding \"A:\" spot for you. *Make sure to answer every question marked with a `Q:` for full credit.* \n"
   ]
  },
  {
   "cell_type": "code",
   "execution_count": 1,
   "id": "a85bce08",
   "metadata": {},
   "outputs": [
    {
     "name": "stderr",
     "output_type": "stream",
     "text": [
      "/Users/smsultanmahmudrahat/.local/lib/python3.8/site-packages/tqdm/auto.py:21: TqdmWarning: IProgress not found. Please update jupyter and ipywidgets. See https://ipywidgets.readthedocs.io/en/stable/user_install.html\n",
      "  from .autonotebook import tqdm as notebook_tqdm\n"
     ]
    }
   ],
   "source": [
    "# These libraries may be useful to you\n",
    "\n",
    "#!pip install pyLDAvis==3.4.1 --user  #You need to restart the Kernel after installation.\n",
    "# You also need a Python version => 3.9.0\n",
    "from nltk.corpus import brown\n",
    "\n",
    "import numpy as np\n",
    "import pandas as pd\n",
    "from tqdm.auto import tqdm\n",
    "\n",
    "import pyLDAvis\n",
    "import pyLDAvis.lda_model\n",
    "import pyLDAvis.gensim_models\n",
    "\n",
    "import spacy\n",
    "from sklearn.feature_extraction.text import TfidfVectorizer, CountVectorizer\n",
    "from sklearn.decomposition import NMF, TruncatedSVD, LatentDirichletAllocation\n",
    "\n",
    "from spacy.lang.en.stop_words import STOP_WORDS as stopwords\n",
    "\n",
    "from collections import Counter, defaultdict\n",
    "\n",
    "nlp = spacy.load('en_core_web_sm')"
   ]
  },
  {
   "cell_type": "code",
   "execution_count": 4,
   "id": "a218df60",
   "metadata": {},
   "outputs": [
    {
     "name": "stderr",
     "output_type": "stream",
     "text": [
      "[nltk_data] Downloading package brown to\n",
      "[nltk_data]     /Users/smsultanmahmudrahat/nltk_data...\n",
      "[nltk_data]   Unzipping corpora/brown.zip.\n"
     ]
    },
    {
     "data": {
      "text/plain": [
       "True"
      ]
     },
     "execution_count": 4,
     "metadata": {},
     "output_type": "execute_result"
    }
   ],
   "source": [
    "# add any additional libaries you need here\n",
    "\n",
    "import nltk\n",
    "from nltk.corpus import brown\n",
    "\n",
    "# Download the Brown corpus\n",
    "nltk.download('brown')"
   ]
  },
  {
   "cell_type": "code",
   "execution_count": 2,
   "id": "494de237",
   "metadata": {},
   "outputs": [],
   "source": [
    "# This function comes from the BTAP repo.\n",
    "\n",
    "def display_topics(model, features, no_top_words=5):\n",
    "    for topic, words in enumerate(model.components_):\n",
    "        total = words.sum()\n",
    "        largest = words.argsort()[::-1] # invert sort order\n",
    "        print(\"\\nTopic %02d\" % topic)\n",
    "        for i in range(0, no_top_words):\n",
    "            print(\"  %s (%2.2f)\" % (features[largest[i]], abs(words[largest[i]]*100.0/total)))"
   ]
  },
  {
   "cell_type": "markdown",
   "id": "a30a901c",
   "metadata": {},
   "source": [
    "## Getting to Know the Brown Corpus\n",
    "\n",
    "Let's spend a bit of time getting to know what's in the Brown corpus, our NLTK example of an \"overlapping\" corpus."
   ]
  },
  {
   "cell_type": "code",
   "execution_count": 5,
   "id": "457c59ed",
   "metadata": {},
   "outputs": [
    {
     "name": "stdout",
     "output_type": "stream",
     "text": [
      "For adventure we have 29 articles.\n",
      "For belles_lettres we have 75 articles.\n",
      "For editorial we have 27 articles.\n",
      "For fiction we have 29 articles.\n",
      "For government we have 30 articles.\n",
      "For hobbies we have 36 articles.\n",
      "For humor we have 9 articles.\n",
      "For learned we have 80 articles.\n",
      "For lore we have 48 articles.\n",
      "For mystery we have 24 articles.\n",
      "For news we have 44 articles.\n",
      "For religion we have 17 articles.\n",
      "For reviews we have 17 articles.\n",
      "For romance we have 29 articles.\n",
      "For science_fiction we have 6 articles.\n"
     ]
    }
   ],
   "source": [
    "# categories of articles in Brown corpus\n",
    "for category in brown.categories() :\n",
    "    print(f\"For {category} we have {len(brown.fileids(categories=category))} articles.\")"
   ]
  },
  {
   "cell_type": "markdown",
   "id": "23fb133c",
   "metadata": {},
   "source": [
    "Let's create a dataframe of the articles in of hobbies, editorial, government, news, and romance."
   ]
  },
  {
   "cell_type": "code",
   "execution_count": 6,
   "id": "18f50b9d",
   "metadata": {},
   "outputs": [
    {
     "data": {
      "text/plain": [
       "(166, 3)"
      ]
     },
     "execution_count": 6,
     "metadata": {},
     "output_type": "execute_result"
    }
   ],
   "source": [
    "categories = ['editorial','government','news','romance','hobbies'] \n",
    "\n",
    "category_list = []\n",
    "file_ids = []\n",
    "texts = []\n",
    "\n",
    "for category in categories : \n",
    "    for file_id in brown.fileids(categories=category) :\n",
    "        \n",
    "        # build some lists for a dataframe\n",
    "        category_list.append(category)\n",
    "        file_ids.append(file_id)\n",
    "        \n",
    "        text = brown.words(fileids=file_id)\n",
    "        texts.append(\" \".join(text))\n",
    "\n",
    "        \n",
    "        \n",
    "df = pd.DataFrame()\n",
    "df['category'] = category_list\n",
    "df['id'] = file_ids\n",
    "df['text'] = texts \n",
    "\n",
    "df.shape"
   ]
  },
  {
   "cell_type": "code",
   "execution_count": 7,
   "id": "586f47de",
   "metadata": {},
   "outputs": [],
   "source": [
    "# Let's add some helpful columns on the df\n",
    "df['char_len'] = df['text'].apply(len)\n",
    "df['word_len'] = df['text'].apply(lambda x: len(x.split()))\n"
   ]
  },
  {
   "cell_type": "code",
   "execution_count": 8,
   "id": "2128fd2d",
   "metadata": {},
   "outputs": [
    {
     "data": {
      "text/plain": [
       "<Axes: xlabel='category'>"
      ]
     },
     "execution_count": 8,
     "metadata": {},
     "output_type": "execute_result"
    },
    {
     "data": {
      "image/png": "[encoded data removed]",
      "text/plain": [
       "<Figure size 1000x600 with 1 Axes>"
      ]
     },
     "metadata": {},
     "output_type": "display_data"
    }
   ],
   "source": [
    "%matplotlib inline\n",
    "df.groupby('category').agg({'word_len': 'mean'}).plot.bar(figsize=(10,6))"
   ]
  },
  {
   "cell_type": "markdown",
   "id": "554ffeb5",
   "metadata": {},
   "source": [
    "Now do our TF-IDF and Count vectorizations."
   ]
  },
  {
   "cell_type": "code",
   "execution_count": 9,
   "id": "21a7d247",
   "metadata": {},
   "outputs": [
    {
     "name": "stderr",
     "output_type": "stream",
     "text": [
      "/opt/homebrew/Caskroom/miniforge/base/envs/ads502/lib/python3.8/site-packages/sklearn/feature_extraction/text.py:408: UserWarning: Your stop_words may be inconsistent with your preprocessing. Tokenizing the stop words generated tokens ['ll', 've'] not in stop_words.\n",
      "  warnings.warn(\n"
     ]
    },
    {
     "data": {
      "text/plain": [
       "(166, 4941)"
      ]
     },
     "execution_count": 9,
     "metadata": {},
     "output_type": "execute_result"
    }
   ],
   "source": [
    "count_text_vectorizer = CountVectorizer(stop_words=list(stopwords), min_df=5, max_df=0.7)\n",
    "count_text_vectors = count_text_vectorizer.fit_transform(df[\"text\"])\n",
    "count_text_vectors.shape"
   ]
  },
  {
   "cell_type": "code",
   "execution_count": 10,
   "id": "875deba9",
   "metadata": {},
   "outputs": [
    {
     "data": {
      "text/plain": [
       "(166, 4941)"
      ]
     },
     "execution_count": 10,
     "metadata": {},
     "output_type": "execute_result"
    }
   ],
   "source": [
    "tfidf_text_vectorizer = TfidfVectorizer(stop_words=list(stopwords), min_df=5, max_df=0.7)\n",
    "tfidf_text_vectors = tfidf_text_vectorizer.fit_transform(df['text'])\n",
    "tfidf_text_vectors.shape"
   ]
  },
  {
   "cell_type": "markdown",
   "id": "a1062b21",
   "metadata": {},
   "source": [
    "Q: What do the two data frames `count_text_vectors` and `tfidf_text_vectors` hold? \n",
    "\n",
    "A: `tfidf_text_vectors` and `count_text_vectors` is a sparse matrix but . Both of them ignore terms that appear in fewer than 5 documents and ignore terms that appear in more than 70% of the documents also, both of them remove lists of the stop words.\n",
    "\n",
    "- `count_text_vectors` matrix holds raw counts of how many times each term appears in each documents and `tfidf_text_vectors` shows TF-IDF scores, which take into account not just the frequency of terms in a document but also how common or rare the terms are across all documents.\n"
   ]
  },
  {
   "cell_type": "markdown",
   "id": "f77c3f94",
   "metadata": {},
   "source": [
    "## Fitting a Non-Negative Matrix Factorization Model\n",
    "\n",
    "In this section the code to fit a five-topic NMF model has already been written. This code comes directly from the [BTAP repo](https://github.com/blueprints-for-text-analytics-python/blueprints-text), which will help you tremendously in the coming sections. "
   ]
  },
  {
   "cell_type": "code",
   "execution_count": 14,
   "id": "d28745a3",
   "metadata": {},
   "outputs": [],
   "source": [
    "nmf_text_model = NMF(n_components=5, random_state=314)\n",
    "W_text_matrix = nmf_text_model.fit_transform(tfidf_text_vectors)\n",
    "H_text_matrix = nmf_text_model.components_"
   ]
  },
  {
   "cell_type": "code",
   "execution_count": 15,
   "id": "a67185e7",
   "metadata": {},
   "outputs": [
    {
     "name": "stdout",
     "output_type": "stream",
     "text": [
      "\n",
      "Topic 00\n",
      "  mr (0.51)\n",
      "  president (0.45)\n",
      "  kennedy (0.43)\n",
      "  united (0.42)\n",
      "  khrushchev (0.40)\n",
      "\n",
      "Topic 01\n",
      "  said (0.88)\n",
      "  didn (0.46)\n",
      "  ll (0.45)\n",
      "  thought (0.42)\n",
      "  man (0.37)\n",
      "\n",
      "Topic 02\n",
      "  state (0.39)\n",
      "  development (0.36)\n",
      "  tax (0.33)\n",
      "  sales (0.30)\n",
      "  program (0.25)\n",
      "\n",
      "Topic 03\n",
      "  mrs (2.61)\n",
      "  mr (0.78)\n",
      "  said (0.63)\n",
      "  miss (0.52)\n",
      "  car (0.51)\n",
      "\n",
      "Topic 04\n",
      "  game (1.02)\n",
      "  league (0.74)\n",
      "  ball (0.72)\n",
      "  baseball (0.71)\n",
      "  team (0.66)\n"
     ]
    }
   ],
   "source": [
    "display_topics(nmf_text_model, tfidf_text_vectorizer.get_feature_names_out())"
   ]
  },
  {
   "cell_type": "markdown",
   "id": "fee51e9b",
   "metadata": {},
   "source": [
    "Now some work for you to do. Compare the NMF factorization to the original categories from the Brown Corpus.\n",
    "\n",
    "We are interested in the extent to which our NMF factorization agrees or disagrees with the original categories in the corpus. For each topic in your NMF model, tally the Brown categories and interpret the results. \n"
   ]
  },
  {
   "cell_type": "code",
   "execution_count": 19,
   "id": "7c8c8eb0",
   "metadata": {},
   "outputs": [
    {
     "name": "stdout",
     "output_type": "stream",
     "text": [
      "Topic 02\n",
      "  editorial: 2\n",
      "  government: 26\n",
      "  news: 11\n",
      "  hobbies: 26\n",
      "Topic 00\n",
      "  editorial: 20\n",
      "  government: 4\n",
      "  news: 8\n",
      "Topic 01\n",
      "  editorial: 4\n",
      "  romance: 29\n",
      "  hobbies: 8\n",
      "Topic 04\n",
      "  editorial: 1\n",
      "  news: 8\n",
      "  hobbies: 1\n",
      "Topic 03\n",
      "  news: 17\n",
      "  hobbies: 1\n"
     ]
    }
   ],
   "source": [
    "\n",
    "# assign each document to the topic with the highest weight\n",
    "document_topics = np.argmax(W_text_matrix, axis=1)\n",
    "\n",
    "# Tally Brown categories for each topic\n",
    "topic_category_tallies = defaultdict(Counter)\n",
    "\n",
    "for doc_index, topic in enumerate(document_topics):\n",
    "    doc_category = df['category'][doc_index]\n",
    "    topic_category_tallies[topic][doc_category] += 1\n",
    "    \n",
    "\n",
    "\n",
    "for topic, category_tally in topic_category_tallies.items():\n",
    "    print(f\"Topic {topic:02}\")\n",
    "    for category, count in category_tally.items():\n",
    "        print(f\"  {category}: {count}\")"
   ]
  },
  {
   "cell_type": "markdown",
   "id": "f8d4e2bc",
   "metadata": {},
   "source": [
    "Q: How does your five-topic NMF model compare to the original Brown categories? \n",
    "\n",
    "A: **Topic 00**\n",
    "\n",
    "**Top Words:**\n",
    "\n",
    "- mr (0.51)\n",
    "- president (0.45)\n",
    "- kennedy (0.43)\n",
    "- united (0.42)\n",
    "- khrushchev (0.40)\n",
    "\n",
    "Brown Categories:\n",
    "\n",
    "- editorial: 20\n",
    "- government: 4\n",
    "- news: 8\n",
    "\n",
    "This topic seems to be heavily related to political or governmental content, with prominent words like \"president,\" \"kennedy,\" \"united,\" and \"khrushchev.\" The categories that align well with this topic are primarily editorial and news, with a smaller representation from government."
   ]
  },
  {
   "cell_type": "markdown",
   "id": "c9735e43",
   "metadata": {},
   "source": [
    " ** Topic 01**\n",
    "**Top Words:**\n",
    "- said (0.88)\n",
    "- didn (0.46)\n",
    "- ll (0.45)\n",
    "- thought (0.42)\n",
    "- man (0.37)\n",
    "\n",
    "**Brown Categories:**\n",
    "- editorial: 4\n",
    "- romance: 29\n",
    "- hobbies: 8\n",
    "\n",
    "This topic is to be centered around dialogue and personal narratives which is  indicated by words like \"said,\" \"didn,\" and \"thought.\" It aligns with the romance category, which typically includes personal stories and dialogue, and also has a presence in hobbies and editorial."
   ]
  },
  {
   "cell_type": "markdown",
   "id": "a4c8e41a",
   "metadata": {},
   "source": [
    "**Topic 02** </br> \n",
    "**Top Words:**\n",
    "- state (0.39)\n",
    "- development (0.36)\n",
    "- tax (0.33)\n",
    "- sales (0.30)\n",
    "- program (0.25)\n",
    "\n",
    "**Brown Categories:**\n",
    "- editorial: 2\n",
    "- government: 26\n",
    "- news: 11\n",
    "- hobbies: 26\n",
    "\n",
    "\n",
    "This topic is likely related to economic or governmental themes, as indicated by terms like \"state,\" \"development,\" \"tax,\" and \"sales.\" It aligns well with the government category and has a significant representation in hobbies and news, suggesting a mix of economic and policy-related content."
   ]
  },
  {
   "cell_type": "markdown",
   "id": "784db903",
   "metadata": {},
   "source": [
    "**Topic 03** </br>\n",
    "**Top Words:**\n",
    "- mrs (2.61)\n",
    "- mr (0.78)\n",
    "- said (0.63)\n",
    "- miss (0.52)\n",
    "- car (0.51)\n",
    "\n",
    "**Brown Categories:**\n",
    "- news: 17\n",
    "- hobbies: 1\n",
    "\n",
    "\n",
    "This topic is centered around personal titles and speech, with a particular emphasis on individuals (e.g., \"mrs,\" \"mr,\" \"miss\"). It aligns mostly with the news category, suggesting articles that include personal accounts or interviews, and has a minimal representation in hobbies."
   ]
  },
  {
   "cell_type": "markdown",
   "id": "de2b6736",
   "metadata": {},
   "source": [
    "#### Topic 04\n",
    "**Top Words:**\n",
    "- game (1.02)\n",
    "- league (0.74)\n",
    "- ball (0.72)\n",
    "- baseball (0.71)\n",
    "- team (0.66)\n",
    "\n",
    "**Brown Categories:**\n",
    "- editorial: 1\n",
    "- news: 8\n",
    "- hobbies: 1\n",
    "\n",
    "This topic is clearly related to sports, as indicated by terms like \"game,\" \"league,\" \"ball,\" and \"baseball.\" It primarily aligns with the news category, likely reflecting sports news articles, with minor representation in editorial and hobbies."
   ]
  },
  {
   "cell_type": "markdown",
   "id": "82e37cb5",
   "metadata": {},
   "source": [
    "## Fitting an LSA Model\n",
    "\n",
    "In this section, follow the example from the repository and fit an LSA model (called a \"TruncatedSVD\" in `sklearn`). Again fit a five-topic model and compare it to the actual categories in the Brown corpus. Use the TF-IDF vectors for your fit, as above. \n",
    "\n",
    "To be explicit, we are once again interested in the extent to which this LSA factorization agrees or disagrees with the original categories in the corpus. For each topic in your model, tally the Brown categories and interpret the results. \n"
   ]
  },
  {
   "cell_type": "code",
   "execution_count": 22,
   "id": "00b53d3d",
   "metadata": {},
   "outputs": [
    {
     "name": "stdout",
     "output_type": "stream",
     "text": [
      "Topic 00\n",
      "  editorial: 27\n",
      "  government: 30\n",
      "  news: 34\n",
      "  romance: 21\n",
      "  hobbies: 36\n",
      "Topic 04\n",
      "  news: 7\n",
      "Topic 03\n",
      "  news: 3\n",
      "Topic 01\n",
      "  romance: 8\n",
      "\n",
      "Topic 00\n",
      "  said (0.44)\n",
      "  mr (0.25)\n",
      "  mrs (0.22)\n",
      "  state (0.20)\n",
      "  man (0.17)\n",
      "\n",
      "Topic 01\n",
      "  said (3.89)\n",
      "  ll (2.73)\n",
      "  didn (2.63)\n",
      "  thought (2.20)\n",
      "  got (1.97)\n",
      "\n",
      "Topic 02\n",
      "  mrs (3.12)\n",
      "  mr (1.70)\n",
      "  said (1.06)\n",
      "  kennedy (0.82)\n",
      "  khrushchev (0.77)\n",
      "\n",
      "Topic 03\n",
      "  mrs (29.45)\n",
      "  club (6.53)\n",
      "  game (6.12)\n",
      "  jr (5.60)\n",
      "  university (5.20)\n",
      "\n",
      "Topic 04\n",
      "  game (4.54)\n",
      "  league (3.27)\n",
      "  baseball (3.22)\n",
      "  ball (3.10)\n",
      "  team (2.94)\n"
     ]
    }
   ],
   "source": [
    "# Your code here\n",
    "from sklearn.decomposition import TruncatedSVD\n",
    "\n",
    "# Fit the LSA model\n",
    "lsa_text_model = TruncatedSVD(n_components=5, random_state=314)\n",
    "W_lsa_matrix = lsa_text_model.fit_transform(tfidf_text_vectors)\n",
    "H_lsa_matrix = lsa_text_model.components_\n",
    "\n",
    "# Assign each document to the topic with the highest weight\n",
    "lsa_document_topics = np.argmax(W_lsa_matrix, axis=1)\n",
    "\n",
    "# Tally Brown categories for each topic\n",
    "lsa_topic_category_tallies = defaultdict(Counter)\n",
    "\n",
    "for doc_index, topic in enumerate(lsa_document_topics):\n",
    "    doc_category = df['category'][doc_index]\n",
    "    lsa_topic_category_tallies[topic][doc_category] += 1\n",
    "\n",
    "# display the results\n",
    "for topic, category_tally in lsa_topic_category_tallies.items():\n",
    "    print(f\"Topic {topic:02}\")\n",
    "    for category, count in category_tally.items():\n",
    "        print(f\"  {category}: {count}\")\n",
    "\n",
    "# display topics for LSA model\n",
    "display_topics(lsa_text_model, tfidf_text_vectorizer.get_feature_names_out())\n"
   ]
  },
  {
   "cell_type": "markdown",
   "id": "207f1951",
   "metadata": {},
   "source": [
    "\n",
    "**Topic 0**\n",
    "\n",
    "**Top Words:**\n",
    "- said (0.44)\n",
    "- mr (0.25)\n",
    "- mrs (0.22)\n",
    "- state (0.20)\n",
    "- man (0.17)\n",
    "\n",
    "**Brown Categories:**\n",
    "- editorial: 27\n",
    "- government: 30\n",
    "- news: 34\n",
    "- romance: 21\n",
    "- hobbies: 36\n",
    "\n",
    "\n",
    "This topic seems to be a general one, covering a wide range of subjects. The presence of common words like \"said,\" \"mr,\" and \"mrs\" indicates that it includes a lot of spoken or reported content. This is reflected in the broad distribution across editorial, government, news, romance, and hobbies categories, suggesting that this topic may represent common language used in various contexts.\n"
   ]
  },
  {
   "cell_type": "markdown",
   "id": "b005aa00",
   "metadata": {},
   "source": [
    "**Topic 01**\n",
    "\n",
    "**Top Words:**\n",
    "- said (3.89)\n",
    "- ll (2.73)\n",
    "- didn (2.63)\n",
    "- thought (2.20)\n",
    "- got (1.97)\n",
    "\n",
    "**Brown Categories:**\n",
    "- romance: 8\n",
    "\n",
    "\n",
    "This topic appears to be centered around dialogue and personal thoughts, as indicated by words like \"said,\" \"thought,\" \"didn,\" and \"ll.\" It aligns strongly with the romance category, which typically features narratives and conversations. This focused alignment suggests that this topic captures the storytelling and conversational elements prevalent in romance texts.\n",
    "\n"
   ]
  },
  {
   "cell_type": "markdown",
   "id": "311b7752",
   "metadata": {},
   "source": [
    "Q: How does your five-topic LSA model compare to the original Brown categories? \n",
    "\n"
   ]
  },
  {
   "cell_type": "markdown",
   "id": "1be7cd8e",
   "metadata": {},
   "source": [
    "-  Topic 02 </br>\n",
    "**Top Words:**\n",
    "- mrs (3.12)\n",
    "- mr (1.70)\n",
    "- said (1.06)\n",
    "- kennedy (0.82)\n",
    "- khrushchev (0.77)\n",
    "\n",
    "**Brown Categories:**\n",
    "\n",
    "This topic is likely related to personal titles and significant individuals, possibly in historical or political contexts, given the names \"Kennedy\" and \"Khrushchev.\" The presence of \"mrs\" and \"mr\" suggests a focus on individuals. The lack of specific category data makes detailed interpretation challenging, but it could relate to editorial or news articles discussing prominent figures."
   ]
  },
  {
   "cell_type": "markdown",
   "id": "9da4c0d0",
   "metadata": {},
   "source": [
    "**Topic 3** </br>\n",
    "\n",
    "**Top Words:**\n",
    "- mrs (29.45)\n",
    "- club (6.53)\n",
    "- game (6.12)\n",
    "- jr (5.60)\n",
    "- university (5.20)\n",
    "\n",
    "**Brown Categories:**\n",
    "- news: 3\n",
    "\n",
    "This topic appears to be related to social and recreational activities, indicated by words like \"club,\" \"game,\" and \"university.\" The high frequency of \"mrs\" suggests a possible focus on social clubs or activities involving women. The alignment with the news category suggests that this topic may cover news about social events or clubs."
   ]
  },
  {
   "cell_type": "markdown",
   "id": "24fe6b28",
   "metadata": {},
   "source": [
    "\n",
    "**`Topic 04`**\n",
    "**Top Words:**\n",
    "- game (4.54)\n",
    "- league (3.27)\n",
    "- baseball (3.22)\n",
    "- ball (3.10)\n",
    "- team (2.94)\n",
    "\n",
    "**Brown Categories:**\n",
    "- news: 7\n",
    "\n",
    "\n",
    "This topic is clearly related to sports, with terms like \"game,\" \"league,\" \"baseball,\" and \"team.\" The alignment with the news category suggests that this topic likely covers sports news, including games, leagues, and team activities."
   ]
  },
  {
   "cell_type": "code",
   "execution_count": 23,
   "id": "f19814c3",
   "metadata": {},
   "outputs": [
    {
     "name": "stdout",
     "output_type": "stream",
     "text": [
      "\n",
      "Topic 00\n",
      "  said (0.44)\n",
      "  mr (0.25)\n",
      "  mrs (0.22)\n",
      "  state (0.20)\n",
      "  man (0.17)\n",
      "\n",
      "Topic 01\n",
      "  said (3.89)\n",
      "  ll (2.73)\n",
      "  didn (2.63)\n",
      "  thought (2.20)\n",
      "  got (1.97)\n",
      "\n",
      "Topic 02\n",
      "  mrs (3.12)\n",
      "  mr (1.70)\n",
      "  said (1.06)\n",
      "  kennedy (0.82)\n",
      "  khrushchev (0.77)\n",
      "\n",
      "Topic 03\n",
      "  mrs (29.45)\n",
      "  club (6.53)\n",
      "  game (6.12)\n",
      "  jr (5.60)\n",
      "  university (5.20)\n",
      "\n",
      "Topic 04\n",
      "  game (4.54)\n",
      "  league (3.27)\n",
      "  baseball (3.22)\n",
      "  ball (3.10)\n",
      "  team (2.94)\n"
     ]
    }
   ],
   "source": [
    "display_topics(lsa_text_model, tfidf_text_vectorizer.get_feature_names_out())\n"
   ]
  },
  {
   "cell_type": "markdown",
   "id": "ea8b280a",
   "metadata": {},
   "source": [
    "Q: What is your interpretation of the display topics output? \n",
    "\n",
    "A: \n",
    "`topic 00`: \n",
    "\n",
    "This topic seems to be centered around general reporting or dialogue. The word \"said\" is dominant, suggesting a focus on speech or quotations. Words like \"mr,\" \"mrs,\" \"state,\" and \"man\" indicate that this topic might cover a range of subjects from personal titles to state affairs, which aligns with various categories such as editorial, news, and government\n",
    "\n",
    "`topic 01`:\n",
    "\n",
    "This topic is heavily focused on dialogue and personal reflections. The frequent use of words like \"said,\" \"ll,\" \"didn,\" and \"thought\" indicates that this topic is related to conversations and inner thoughts. This aligns well with categories like romance and personal narratives where dialogue is prevalent.\n",
    "\n",
    "`topic 02`: \n",
    "\n",
    "this topic appears to center around personal titles and historical or political figures. The presence of names like \"Kennedy\" and \"Khrushchev\" suggests discussions about specific individuals, likely in an editorial or news context. The words \"mrs\" and \"mr\" also point to a focus on individuals.\n",
    "\n",
    "`topic 3`: \n",
    "\n",
    "This topic seems to be related to social and recreational activities. The dominance of \"mrs\" might indicate a focus on women's involvement in clubs or games. Words like \"club,\" \"game,\" \"jr,\" and \"university\" suggest topics around social clubs, games, and educational institutions, aligning with categories like hobbies and possibly news related to social event\n",
    "\n",
    "`topic 4`: \n",
    "\n",
    "This topic is clearly related to sports. The prominent words \"game,\" \"league,\" \"baseball,\" \"ball,\" and \"team\" indicate a strong focus on sports events and teams. This aligns well with the news category, especially sports news.\n"
   ]
  },
  {
   "cell_type": "markdown",
   "id": "b4ab4d29",
   "metadata": {},
   "source": [
    "## Fitting an LDA Model\n",
    "\n",
    "Finally, fit a five-topic LDA model using the count vectors (`count_text_vectors` from above). Display the results using `pyLDAvis.display` and describe what you learn from that visualization. "
   ]
  },
  {
   "cell_type": "code",
   "execution_count": 31,
   "id": "802cb8ff",
   "metadata": {},
   "outputs": [
    {
     "name": "stderr",
     "output_type": "stream",
     "text": [
      "[nltk_data] Downloading package brown to\n",
      "[nltk_data]     /Users/smsultanmahmudrahat/nltk_data...\n",
      "[nltk_data]   Package brown is already up-to-date!\n",
      "/opt/homebrew/Caskroom/miniforge/base/envs/ads502/lib/python3.8/site-packages/sklearn/feature_extraction/text.py:408: UserWarning: Your stop_words may be inconsistent with your preprocessing. Tokenizing the stop words generated tokens ['ll', 've'] not in stop_words.\n",
      "  warnings.warn(\n"
     ]
    },
    {
     "name": "stdout",
     "output_type": "stream",
     "text": [
      "Topic 02\n",
      "  editorial: 2\n",
      "  government: 26\n",
      "  news: 11\n",
      "  hobbies: 26\n",
      "Topic 00\n",
      "  editorial: 20\n",
      "  government: 4\n",
      "  news: 8\n",
      "Topic 01\n",
      "  editorial: 4\n",
      "  romance: 29\n",
      "  hobbies: 8\n",
      "Topic 04\n",
      "  editorial: 1\n",
      "  news: 8\n",
      "  hobbies: 1\n",
      "Topic 03\n",
      "  news: 17\n",
      "  hobbies: 1\n",
      "\n",
      "Topic 00\n",
      "  mr (0.51)\n",
      "  president (0.45)\n",
      "  kennedy (0.43)\n",
      "  united (0.42)\n",
      "  khrushchev (0.40)\n",
      "\n",
      "Topic 01\n",
      "  said (0.88)\n",
      "  didn (0.46)\n",
      "  ll (0.45)\n",
      "  thought (0.42)\n",
      "  man (0.37)\n",
      "\n",
      "Topic 02\n",
      "  state (0.39)\n",
      "  development (0.36)\n",
      "  tax (0.33)\n",
      "  sales (0.30)\n",
      "  program (0.25)\n",
      "\n",
      "Topic 03\n",
      "  mrs (2.61)\n",
      "  mr (0.78)\n",
      "  said (0.63)\n",
      "  miss (0.52)\n",
      "  car (0.51)\n",
      "\n",
      "Topic 04\n",
      "  game (1.02)\n",
      "  league (0.74)\n",
      "  ball (0.72)\n",
      "  baseball (0.71)\n",
      "  team (0.66)\n",
      "Topic 00\n",
      "  editorial: 27\n",
      "  government: 30\n",
      "  news: 34\n",
      "  romance: 21\n",
      "  hobbies: 36\n",
      "Topic 04\n",
      "  news: 7\n",
      "Topic 03\n",
      "  news: 3\n",
      "Topic 01\n",
      "  romance: 8\n",
      "\n",
      "Topic 00\n",
      "  said (0.44)\n",
      "  mr (0.25)\n",
      "  mrs (0.22)\n",
      "  state (0.20)\n",
      "  man (0.17)\n",
      "\n",
      "Topic 01\n",
      "  said (3.89)\n",
      "  ll (2.73)\n",
      "  didn (2.63)\n",
      "  thought (2.20)\n",
      "  got (1.97)\n",
      "\n",
      "Topic 02\n",
      "  mrs (3.12)\n",
      "  mr (1.70)\n",
      "  said (1.06)\n",
      "  kennedy (0.82)\n",
      "  khrushchev (0.77)\n",
      "\n",
      "Topic 03\n",
      "  mrs (29.45)\n",
      "  club (6.53)\n",
      "  game (6.12)\n",
      "  jr (5.60)\n",
      "  university (5.20)\n",
      "\n",
      "Topic 04\n",
      "  game (4.54)\n",
      "  league (3.27)\n",
      "  baseball (3.22)\n",
      "  ball (3.10)\n",
      "  team (2.94)\n"
     ]
    }
   ],
   "source": [
    "# Fit your LDA model here\n",
    "\n",
    "import nltk\n",
    "import pandas as pd\n",
    "from nltk.corpus import brown\n",
    "from sklearn.feature_extraction.text import CountVectorizer, TfidfVectorizer\n",
    "from spacy.lang.en.stop_words import STOP_WORDS as stopwords\n",
    "from sklearn.decomposition import NMF, TruncatedSVD, LatentDirichletAllocation\n",
    "from collections import Counter, defaultdict\n",
    "import pyLDAvis\n",
    "import pyLDAvis.sklearn\n",
    "\n",
    "# Download the Brown corpus\n",
    "nltk.download('brown')\n",
    "\n",
    "# Specify categories of interest\n",
    "categories = ['editorial', 'government', 'news', 'romance', 'hobbies'] \n",
    "\n",
    "category_list = []\n",
    "file_ids = []\n",
    "texts = []\n",
    "\n",
    "for category in categories: \n",
    "    for file_id in brown.fileids(categories=category):\n",
    "        category_list.append(category)\n",
    "        file_ids.append(file_id)\n",
    "        text = brown.words(fileids=file_id)\n",
    "        texts.append(\" \".join(text))\n",
    "\n",
    "# Create DataFrame\n",
    "df = pd.DataFrame()\n",
    "df['category'] = category_list\n",
    "df['id'] = file_ids\n",
    "df['text'] = texts \n",
    "\n",
    "# Add helpful columns\n",
    "df['char_len'] = df['text'].apply(len)\n",
    "df['word_len'] = df['text'].apply(lambda x: len(x.split()))\n",
    "\n",
    "# Vectorize text data\n",
    "count_text_vectorizer = CountVectorizer(stop_words=list(stopwords), min_df=5, max_df=0.7)\n",
    "count_text_vectors = count_text_vectorizer.fit_transform(df[\"text\"])\n",
    "\n",
    "tfidf_text_vectorizer = TfidfVectorizer(stop_words=list(stopwords), min_df=5, max_df=0.7)\n",
    "tfidf_text_vectors = tfidf_text_vectorizer.fit_transform(df['text'])\n",
    "\n",
    "# Fit the NMF model\n",
    "nmf_text_model = NMF(n_components=5, random_state=314)\n",
    "W_text_matrix = nmf_text_model.fit_transform(tfidf_text_vectors)\n",
    "H_text_matrix = nmf_text_model.components_\n",
    "\n",
    "# Assign each document to the topic with the highest weight\n",
    "document_topics = np.argmax(W_text_matrix, axis=1)\n",
    "\n",
    "# Tally Brown categories for each topic\n",
    "topic_category_tallies = defaultdict(Counter)\n",
    "\n",
    "for doc_index, topic in enumerate(document_topics):\n",
    "    doc_category = df['category'][doc_index]\n",
    "    topic_category_tallies[topic][doc_category] += 1\n",
    "\n",
    "# Display the results\n",
    "for topic, category_tally in topic_category_tallies.items():\n",
    "    print(f\"Topic {topic:02}\")\n",
    "    for category, count in category_tally.items():\n",
    "        print(f\"  {category}: {count}\")\n",
    "\n",
    "# Display topics for NMF model\n",
    "display_topics(nmf_text_model, tfidf_text_vectorizer.get_feature_names_out())\n",
    "\n",
    "# Fit the LSA model\n",
    "lsa_text_model = TruncatedSVD(n_components=5, random_state=314)\n",
    "W_lsa_matrix = lsa_text_model.fit_transform(tfidf_text_vectors)\n",
    "H_lsa_matrix = lsa_text_model.components_\n",
    "\n",
    "# Assign each document to the topic with the highest weight\n",
    "lsa_document_topics = np.argmax(W_lsa_matrix, axis=1)\n",
    "\n",
    "# Tally Brown categories for each topic\n",
    "lsa_topic_category_tallies = defaultdict(Counter)\n",
    "\n",
    "for doc_index, topic in enumerate(lsa_document_topics):\n",
    "    doc_category = df['category'][doc_index]\n",
    "    lsa_topic_category_tallies[topic][doc_category] += 1\n",
    "\n",
    "# Display the results\n",
    "for topic, category_tally in lsa_topic_category_tallies.items():\n",
    "    print(f\"Topic {topic:02}\")\n",
    "    for category, count in category_tally.items():\n",
    "        print(f\"  {category}: {count}\")\n",
    "\n",
    "# Display topics for LSA model\n",
    "display_topics(lsa_text_model, tfidf_text_vectorizer.get_feature_names_out())\n",
    "\n",
    "# Fit the LDA model\n",
    "lda_text_model = LatentDirichletAllocation(n_components=5, random_state=314)\n",
    "lda_text_matrix = lda_text_model.fit_transform(count_text_vectors)\n",
    "\n",
    "\n",
    "\n",
    "\n"
   ]
  },
  {
   "cell_type": "code",
   "execution_count": 29,
   "id": "ab18adf5",
   "metadata": {},
   "outputs": [
    {
     "name": "stdout",
     "output_type": "stream",
     "text": [
      "\n",
      "Topic 00\n",
      "  said (1.05)\n",
      "  mrs (0.82)\n",
      "  little (0.56)\n",
      "  good (0.51)\n",
      "  way (0.50)\n",
      "\n",
      "Topic 01\n",
      "  state (0.67)\n",
      "  development (0.63)\n",
      "  000 (0.57)\n",
      "  program (0.48)\n",
      "  business (0.44)\n",
      "\n",
      "Topic 02\n",
      "  said (1.18)\n",
      "  mr (0.72)\n",
      "  president (0.51)\n",
      "  city (0.43)\n",
      "  state (0.37)\n",
      "\n",
      "Topic 03\n",
      "  feed (0.55)\n",
      "  college (0.54)\n",
      "  general (0.44)\n",
      "  university (0.43)\n",
      "  work (0.37)\n",
      "\n",
      "Topic 04\n",
      "  states (1.14)\n",
      "  state (1.02)\n",
      "  united (0.84)\n",
      "  shall (0.66)\n",
      "  government (0.61)\n"
     ]
    }
   ],
   "source": [
    "# Call `display_topics` on your fitted model here \n",
    "display_topics(lda_text_model, count_text_vectorizer.get_feature_names_out())"
   ]
  },
  {
   "cell_type": "markdown",
   "id": "f2c67876",
   "metadata": {},
   "source": [
    "Q: What inference do you draw from the displayed topics for your LDA model? \n",
    "\n",
    "A:\n",
    " \n",
    "`topic 00`: \n",
    "\n",
    "This topic seems to focus on conversations or narratives involving personal interactions, as indicated by the words \"said\" and \"mrs.\" Words like \"little,\" \"good,\" and \"way\" suggest descriptive language often found in personal stories or editorials.\n",
    "\n",
    "`topic 01`:\n",
    "\n",
    "This topic appears to be centered around economic and governmental themes. Words like \"state,\" \"development,\" \"program,\" and \"business\" indicate discussions related to policy, economic programs, and business activities.\n",
    "\n",
    "`topic 02`: \n",
    "\n",
    "This topic is likely related to political or governmental discussions, with a focus on individuals (e.g., \"mr,\" \"president\") and locations (e.g., \"city,\" \"state\"). The term \"said\" suggests a lot of reported speech or quotations, typical of news or editorial content.\n",
    "\n",
    "\n",
    "`topic 3`: \n",
    "\n",
    "This topic seems to focus on education and professional environments. Words like \"college,\" \"university,\" \"general,\" and \"work\" indicate discussions about academic institutions and general work-related topics.\n",
    "\n",
    "\n",
    "\n",
    "`topic 4`: \n",
    "\n",
    "This topic is clearly centered on governmental and political themes, as indicated by words like \"states,\" \"state,\" \"united,\" and \"government.\" The term \"shall\" suggests formal language often found in legal or policy documents.\n",
    "\n",
    "\n"
   ]
  },
  {
   "cell_type": "code",
   "execution_count": 32,
   "id": "4256890b",
   "metadata": {},
   "outputs": [
    {
     "name": "stdout",
     "output_type": "stream",
     "text": [
      "Topic 02\n",
      "  editorial: 21\n",
      "  government: 3\n",
      "  news: 32\n",
      "  romance: 1\n",
      "  hobbies: 2\n",
      "Topic 00\n",
      "  editorial: 3\n",
      "  government: 1\n",
      "  news: 4\n",
      "  romance: 28\n",
      "  hobbies: 11\n",
      "Topic 03\n",
      "  editorial: 2\n",
      "  government: 4\n",
      "  news: 3\n",
      "  hobbies: 8\n",
      "Topic 01\n",
      "  editorial: 1\n",
      "  government: 12\n",
      "  news: 3\n",
      "  hobbies: 9\n",
      "Topic 04\n",
      "  government: 10\n",
      "  news: 2\n",
      "  hobbies: 6\n"
     ]
    }
   ],
   "source": [
    "# Assign each document to the topic with the highest weight in the LDA model\n",
    "lda_document_topics = np.argmax(lda_text_matrix, axis=1)\n",
    "\n",
    "# Tally Brown categories for each LDA topic\n",
    "lda_topic_category_tallies = defaultdict(Counter)\n",
    "\n",
    "for doc_index, topic in enumerate(lda_document_topics):\n",
    "    doc_category = df['category'][doc_index]\n",
    "    lda_topic_category_tallies[topic][doc_category] += 1\n",
    "\n",
    "# Display the results\n",
    "for topic, category_tally in lda_topic_category_tallies.items():\n",
    "    print(f\"Topic {topic:02}\")\n",
    "    for category, count in category_tally.items():\n",
    "        print(f\"  {category}: {count}\")\n"
   ]
  },
  {
   "cell_type": "markdown",
   "id": "c84e88a1",
   "metadata": {},
   "source": [
    "Q: Repeat the tallying of Brown categories within your topics. How does your five-topic LDA model compare to the original Brown categories? \n",
    "\n",
    "\n",
    "` Topic 00` </br>\n",
    "\n",
    "\n",
    "**Top Words:**\n",
    "- said (1.05)\n",
    "- mrs (0.82)\n",
    "- little (0.56)\n",
    "- good (0.51)\n",
    "- way (0.50)\n",
    "\n",
    "**Brown Categories Tally:**\n",
    "- editorial: 3\n",
    "- government: 1\n",
    "- news: 4\n",
    "- romance: 28\n",
    "- hobbies: 11\n",
    "\n",
    "This topic appears to focus on narratives and personal interactions, which is evident from the words \"said,\" \"mrs,\" and \"little.\" The strong presence of the romance category (28) suggests that this topic captures elements of storytelling and personal narratives typical of romance texts. The presence in hobbies also indicates discussions that might involve personal interests and activities.\n",
    "\n",
    "\n",
    "`Topic 01` </br>\n",
    "\n",
    "**Top Words:**\n",
    "- state (0.67)\n",
    "- development (0.63)\n",
    "- 000 (0.57)\n",
    "- program (0.48)\n",
    "- business (0.44)\n",
    "\n",
    "**Brown Categories Tally:**\n",
    "- editorial: 1\n",
    "- government: 12\n",
    "- news: 3\n",
    "- hobbies: 9\n",
    "\n",
    "\n",
    "\n",
    "This topic clearly focuses on economic and governmental themes, as indicated by words like \"state,\" \"development,\" \"program,\" and \"business.\" The high representation in the government category (12) confirms this focus, with additional content related to hobbies and news, suggesting coverage of economic programs and business activities.\n",
    "\n",
    "`Topic 02` </br>\n",
    "\n",
    "**Top Words:**\n",
    "- said (1.18)\n",
    "- mr (0.72)\n",
    "- president (0.51)\n",
    "- city (0.43)\n",
    "- state (0.37)\n",
    "\n",
    "\n",
    "**Brown Categories Tally:**\n",
    "- editorial: 21\n",
    "- government: 3\n",
    "- news: 32\n",
    "- romance: 1\n",
    "- hobbies: 2\n",
    "\n",
    "This topic is centered on political and governmental discussions, with significant words like \"president,\" \"city,\" and \"state.\" The strong alignment with news (32) and editorial (21) categories indicates that this topic captures reported speech and political discourse, typical of news articles and editorials.\n",
    "\n",
    "` Topic 03` </br>\n",
    "\n",
    "**Top Words:**\n",
    "- feed (0.55)\n",
    "- college (0.54)\n",
    "- general (0.44)\n",
    "- university (0.43)\n",
    "- work (0.37)\n",
    "\n",
    "\n",
    "**Brown Categories Tally:**\n",
    "- editorial: 2\n",
    "- government: 4\n",
    "- news: 3\n",
    "- hobbies: 8\n",
    "\n",
    "\n",
    "\n",
    "This topic seems to focus on educational and professional environments, indicated by words like \"college,\" \"university,\" and \"work.\" The representation in hobbies (8) and government (4) categories suggests discussions around educational institutions and professional work, including related hobbies and activities.\n",
    "\n",
    "` Topic 04 ` </br>\n",
    "**Top Words:**\n",
    "- states (1.14)\n",
    "- state (1.02)\n",
    "- united (0.84)\n",
    "- shall (0.66)\n",
    "- government (0.61)\n",
    "\n",
    "\n",
    "**Brown Categories Tally:**\n",
    "- government: 10\n",
    "- news: 2\n",
    "- hobbies: 6\n",
    "\n",
    "\n",
    "This topic is clearly related to governmental and political themes, as indicated by words like \"states,\" \"state,\" \"united,\" and \"government.\" The strong presence in the government category (10) confirms this focus, with additional content in news and hobbies suggesting discussions about governmental policies and their implications.\n"
   ]
  },
  {
   "cell_type": "code",
   "execution_count": 26,
   "id": "6aae75ca",
   "metadata": {},
   "outputs": [
    {
     "name": "stderr",
     "output_type": "stream",
     "text": [
      "/opt/homebrew/Caskroom/miniforge/base/envs/ads502/lib/python3.8/site-packages/pyLDAvis/_prepare.py:243: FutureWarning: In a future version of pandas all arguments of DataFrame.drop except for the argument 'labels' will be keyword-only.\n",
      "  default_term_info = default_term_info.sort_values(\n"
     ]
    }
   ],
   "source": [
    "lda_display = pyLDAvis.lda_model.prepare(lda_text_model, count_text_vectors, count_text_vectorizer, sort_topics=False)"
   ]
  },
  {
   "cell_type": "code",
   "execution_count": 27,
   "id": "2a89fc15",
   "metadata": {},
   "outputs": [
    {
     "data": {
      "text/html": [
       "\n",
       "<link rel=\"stylesheet\" type=\"text/css\" href=\"https://cdn.jsdelivr.net/gh/bmabey/pyLDAvis@3.4.0/pyLDAvis/js/ldavis.v1.0.0.css\">\n",
       "\n",
       "\n",
       "<div id=\"ldavis_el7277113365157104363983946\" style=\"background-color:white;\"></div>\n",
       "<script type=\"text/javascript\">\n",
       "\n",
       "var ldavis_el7277113365157104363983946_data = {\"mdsDat\": {\"x\": [-0.24352303362204158, 0.13055719395525944, -0.05665667547392712, 0.04142748483975057, 0.1281950303009587], \"y\": [0.006829720679474625, -0.055884744701644624, 0.03852366287446577, -0.11285215230955971, 0.123383513457264], \"topics\": [1, 2, 3, 4, 5], \"cluster\": [1, 1, 1, 1, 1], \"Freq\": [22.896957296534556, 20.431968542841656, 32.00626407252673, 12.368825612932133, 12.29598447516493]}, \"tinfo\": {\"Term\": [\"states\", \"state\", \"said\", \"mrs\", \"united\", \"shall\", \"development\", \"tax\", \"feed\", \"fiscal\", \"college\", \"government\", \"ll\", \"don\", \"000\", \"university\", \"department\", \"didn\", \"sales\", \"president\", \"rhode\", \"got\", \"equipment\", \"little\", \"mother\", \"class\", \"act\", \"program\", \"system\", \"property\", \"hair\", \"baby\", \"clothes\", \"walls\", \"anne\", \"fig\", \"pale\", \"pink\", \"dry\", \"yellow\", \"entrance\", \"hadn\", \"ham\", \"couldn\", \"frames\", \"fingers\", \"flowers\", \"windows\", \"bride\", \"hell\", \"handsome\", \"coat\", \"cloth\", \"sweet\", \"stared\", \"liked\", \"colored\", \"studio\", \"bed\", \"trees\", \"shelter\", \"mother\", \"looked\", \"clay\", \"wasn\", \"guests\", \"didn\", \"woman\", \"sat\", \"pieces\", \"colors\", \"eyes\", \"drill\", \"mrs\", \"ll\", \"don\", \"thought\", \"room\", \"sun\", \"inch\", \"ve\", \"black\", \"little\", \"knew\", \"went\", \"sure\", \"got\", \"door\", \"look\", \"son\", \"know\", \"said\", \"way\", \"come\", \"came\", \"good\", \"place\", \"away\", \"old\", \"water\", \"right\", \"man\", \"let\", \"life\", \"left\", \"house\", \"day\", \"home\", \"systems\", \"marketing\", \"electronic\", \"boats\", \"missiles\", \"components\", \"aircraft\", \"machine\", \"rhode\", \"assessment\", \"shipments\", \"laboratory\", \"bankers\", \"savings\", \"yield\", \"industrial\", \"forests\", \"compared\", \"machines\", \"procurement\", \"missile\", \"conservation\", \"utility\", \"inventories\", \"polaris\", \"manufacturing\", \"machinery\", \"investment\", \"recreation\", \"banks\", \"property\", \"industry\", \"equipment\", \"sales\", \"radiation\", \"planning\", \"development\", \"medical\", \"providence\", \"billion\", \"system\", \"shares\", \"manufacturers\", \"island\", \"1960\", \"production\", \"1959\", \"products\", \"research\", \"co\", \"range\", \"000\", \"program\", \"business\", \"cost\", \"million\", \"available\", \"state\", \"small\", \"company\", \"national\", \"1961\", \"provide\", \"areas\", \"service\", \"use\", \"military\", \"tax\", \"public\", \"khrushchev\", \"player\", \"rayburn\", \"congo\", \"republican\", \"moscow\", \"southern\", \"baseball\", \"railroad\", \"castro\", \"troops\", \"yards\", \"charter\", \"yankees\", \"premier\", \"alexander\", \"democrats\", \"captain\", \"chinese\", \"coach\", \"laos\", \"gen\", \"cuban\", \"opposition\", \"soviet\", \"katanga\", \"republicans\", \"pope\", \"bombs\", \"robinson\", \"berlin\", \"speaker\", \"communist\", \"democratic\", \"eisenhower\", \"league\", \"mayor\", \"cuba\", \"st\", \"police\", \"yesterday\", \"china\", \"west\", \"monday\", \"race\", \"john\", \"east\", \"kennedy\", \"city\", \"mr\", \"meeting\", \"party\", \"president\", \"said\", \"week\", \"war\", \"political\", \"nations\", \"game\", \"committee\", \"leaders\", \"american\", \"world\", \"york\", \"home\", \"county\", \"man\", \"united\", \"people\", \"house\", \"state\", \"day\", \"old\", \"000\", \"government\", \"men\", \"national\", \"states\", \"school\", \"academic\", \"faculty\", \"trustees\", \"campus\", \"recognition\", \"classical\", \"professors\", \"mathematics\", \"musical\", \"tends\", \"feed\", \"stockholders\", \"fulfill\", \"meat\", \"unions\", \"chemical\", \"motors\", \"prosperity\", \"cattle\", \"prestige\", \"designer\", \"curriculum\", \"clerical\", \"catholic\", \"collective\", \"recorded\", \"appearances\", \"creative\", \"membership\", \"trust\", \"music\", \"chamber\", \"students\", \"student\", \"colleges\", \"teachers\", \"college\", \"engineer\", \"interior\", \"university\", \"daily\", \"pool\", \"schools\", \"education\", \"art\", \"general\", \"anti\", \"members\", \"technical\", \"labor\", \"design\", \"administration\", \"level\", \"work\", \"school\", \"president\", \"problem\", \"board\", \"department\", \"american\", \"good\", \"men\", \"aid\", \"world\", \"high\", \"cousin\", \"rehabilitation\", \"coal\", \"vocational\", \"definition\", \"denied\", \"thereof\", \"bonds\", \"payment\", \"rico\", \"puerto\", \"coordination\", \"filing\", \"adopting\", \"recommendation\", \"calendar\", \"hated\", \"proceedings\", \"commodities\", \"sectors\", \"connections\", \"62\", \"vehicles\", \"allocation\", \"treasury\", \"tractor\", \"adjustments\", \"upstairs\", \"shall\", \"assigned\", \"india\", \"exercise\", \"interference\", \"payments\", \"fiscal\", \"authorized\", \"claim\", \"stations\", \"insurance\", \"claims\", \"class\", \"states\", \"income\", \"return\", \"tax\", \"united\", \"junior\", \"hearing\", \"act\", \"countries\", \"cars\", \"state\", \"agreement\", \"department\", \"government\", \"secretary\", \"officer\", \"section\", \"title\", \"federal\", \"use\", \"service\", \"30\", \"board\", \"services\", \"pay\", \"local\", \"day\"], \"Freq\": [328.0, 485.0, 803.0, 307.0, 298.0, 123.0, 199.0, 172.0, 93.0, 107.0, 120.0, 273.0, 167.0, 178.0, 282.0, 122.0, 153.0, 124.0, 117.0, 297.0, 86.0, 147.0, 105.0, 237.0, 97.0, 97.0, 127.0, 230.0, 142.0, 95.0, 35.26603169767952, 35.25985457287087, 32.34282391715051, 32.33880808918397, 34.23407300433105, 31.327619231629455, 26.49851762545452, 25.524771041025037, 23.573236778164134, 25.427138253320596, 21.619428115149073, 30.993044678951488, 19.675700186736588, 51.439817072385104, 20.589733305570014, 17.726312752092994, 23.30504081082289, 16.75197331091851, 17.677966184967982, 15.781789493525494, 15.780666162782111, 15.765038139000263, 14.807347406646542, 14.806857679256796, 14.80652524389839, 14.805562659021444, 15.721341674975104, 14.793031300690549, 34.14874849426124, 27.74245501030454, 57.204169859252595, 90.05985801714515, 78.9338778496886, 75.71076669182492, 53.90723878296301, 29.98283937143007, 108.73073941993066, 50.250850745194846, 34.93419186644637, 48.29752376267055, 27.141746207592856, 83.99183249657645, 31.32831148326813, 234.3324322419556, 134.73682388828462, 142.22532063652005, 113.48998687104938, 84.70739288661444, 47.85107317359352, 58.28164360651539, 69.82209572678234, 54.4473349242031, 159.9387345606829, 71.32903793545307, 100.47914727932299, 70.80739412891538, 101.54763550743209, 56.564345442016176, 89.14937958191956, 57.9427876563149, 112.80221967394951, 300.191579952702, 143.08214720581663, 108.66785528409234, 97.93192846288203, 146.72016490751147, 107.63695959300983, 81.83857826579683, 125.33252753578019, 93.65427756652952, 105.80662989454626, 122.43392673750772, 76.3788274785798, 81.85609009063371, 81.25833894745298, 87.7113289787196, 85.95109916972243, 84.11085690371286, 37.620339176968756, 41.260430437148074, 26.10850412689407, 38.014900667186495, 22.24099597794039, 21.223514374686538, 54.24848359225261, 50.394700061919046, 82.33814930496453, 17.226327234066876, 13.599502717078876, 16.290888590985364, 10.74063215723177, 17.005387252552126, 15.133342494227179, 72.0384349910599, 14.938223060271902, 24.574363297207928, 28.908173871233377, 17.448867762039544, 36.58474259793827, 7.854789008100232, 11.322258118599533, 6.91096313190575, 6.906977941612566, 18.167211407818037, 30.179415379306533, 24.918058009903714, 32.623931200863815, 16.267831354180643, 85.04409531611314, 85.23076408361686, 92.04061867537706, 102.21030740338082, 31.419941862258344, 72.2935473615958, 160.58456695669292, 84.12221117793969, 39.27101304252754, 47.153525908302, 110.99031567699458, 32.52656888050927, 35.56961213374264, 88.51387155669465, 93.20958887097913, 63.849746128262176, 50.271962739499614, 49.696057546592996, 72.63469421541022, 46.82621040883022, 53.984967876890714, 144.62866634727143, 123.50896845655164, 113.19861054790779, 73.61038906890587, 79.16133829903033, 74.66204969189852, 169.4652034229589, 100.42960965644954, 76.12853270707166, 92.20105914345173, 67.1606189347009, 66.5012565002115, 62.63129522802709, 86.66947068147952, 95.41631280398066, 65.25389352558281, 67.84173831149246, 65.61364145319268, 73.42554374783123, 48.677684982965935, 46.706427838363254, 43.73337493489187, 39.778178768084445, 37.80010747839432, 34.82722841019423, 39.618770244775064, 32.84180904847268, 29.881397928372554, 26.912817657012955, 26.899591011392985, 27.86029549757162, 25.925615833025613, 24.93520264611284, 24.927860722599334, 23.94619677327183, 23.93872466553853, 22.949710429481556, 22.940661109611234, 49.6147819437241, 21.95531968014697, 20.974708622899158, 20.95696065584776, 78.9274395697848, 19.98234147220937, 19.97284168478858, 19.967439518925545, 18.99653596416776, 18.994551077568076, 63.224259726459195, 40.66068656369504, 70.96278176057118, 59.00465760184122, 38.64663320997924, 57.99120476200678, 43.21771150153889, 36.746255661940765, 71.47530467432684, 44.379150265041126, 58.02965358273082, 32.82823725515494, 96.08418538831438, 58.4651541703085, 40.505659296093015, 142.98368478351748, 83.8542012142747, 111.14875577393451, 172.62353200026376, 287.87814236030096, 84.13213702614422, 92.01772270153523, 205.40634873734737, 470.89022085822415, 140.7626514325598, 113.01139950261603, 71.05038233620009, 67.16518889885647, 73.8762020997392, 83.76171945290713, 50.00246714063667, 148.64615016805465, 138.13586962558077, 96.83009236355018, 140.02404620727472, 76.83350051553282, 129.5803754748469, 125.6215253615761, 118.3621020472278, 110.56501449328083, 148.84517946191247, 119.6007124364245, 108.769911400811, 105.30536803757745, 99.52164947706396, 90.46561781119019, 91.57849254494361, 96.15786407278634, 83.84436994950617, 27.814826569302806, 48.93684709004379, 18.50350998538601, 14.879468477087597, 15.473941152164295, 9.373352607053885, 8.429864173735877, 7.546272419664465, 18.4149204631592, 7.518959799427081, 84.44155436104509, 18.268486568333245, 6.622128289059275, 19.54171382466261, 18.58713025433594, 23.146111999202684, 38.25197181315958, 4.7732886786824835, 17.3815667369205, 10.238816773832246, 14.802706325018905, 7.011676741661567, 4.663272913791571, 25.479595882436207, 10.014582060857462, 7.5823981589187985, 4.54001504132911, 12.853649254073682, 19.4256283830367, 29.70697872347504, 46.82501087835106, 21.450400541392526, 52.99436840196002, 54.95528137360995, 16.311008295186586, 25.620730698223703, 83.62014229714121, 24.941675902345903, 28.633459492336517, 67.01241734256405, 33.331261741900015, 43.62737654411657, 49.32037920830944, 46.41828570416007, 34.8561960319651, 67.6689962592207, 32.103813511591845, 51.623028144456676, 31.177936996002927, 33.895493042174884, 35.04082063901768, 44.49327955892576, 35.228834426741656, 56.48861252778351, 47.167119511566874, 55.68778966133656, 39.641505360521876, 42.715660545388936, 38.014824047683106, 43.015109783672514, 42.90256178570274, 38.25715440917937, 34.06878160168596, 37.62879650451425, 34.84607073269771, 24.895381739117976, 17.608710471055954, 22.617152720693607, 12.988354717680924, 12.081651178952193, 17.25576125805944, 11.043916669732575, 28.504391307942267, 36.75187172723366, 17.292619041590754, 17.289973715259794, 6.586201822372042, 15.53127637153614, 5.6697498607222006, 16.069958421934793, 20.125736782358224, 5.626627615289114, 6.416436823858584, 14.343171489794353, 4.761534756745246, 5.547238482984871, 5.5325088337572215, 35.56950814402431, 10.22353039247614, 22.866566967658585, 19.499373411737313, 10.913572827235203, 5.4304083336343645, 101.1673393785036, 9.14162814612722, 29.60437781154311, 21.945570724591967, 28.4944586263294, 31.902747941397486, 82.24350507900981, 23.619992267391247, 32.823688144756204, 43.5739973968502, 25.75731022225984, 22.21335819721869, 63.525155444167886, 175.30239292056814, 50.0398626862452, 41.16101243435989, 86.65875331991931, 128.39237926387477, 39.91034171743865, 33.81578682770492, 65.01077528351283, 47.420605346202194, 40.20927959281352, 156.29426259717175, 38.83917469224609, 66.04762002987175, 93.49618556474722, 54.83909075025232, 32.98378789632158, 41.66456800174194, 29.98997040790954, 43.233051375569126, 57.377520893862965, 52.70114914664688, 42.22418118531065, 42.52715360133015, 36.82910800278653, 37.09681062937644, 36.74442128742008, 37.176157676026705], \"Total\": [328.0, 485.0, 803.0, 307.0, 298.0, 123.0, 199.0, 172.0, 93.0, 107.0, 120.0, 273.0, 167.0, 178.0, 282.0, 122.0, 153.0, 124.0, 117.0, 297.0, 86.0, 147.0, 105.0, 237.0, 97.0, 97.0, 127.0, 230.0, 142.0, 95.0, 36.02603912499987, 36.02588883819037, 33.10322172299767, 33.103199451516225, 35.05056255948613, 32.12853787483272, 27.25759589658225, 26.283381057698225, 24.334723323645942, 26.284575607309378, 22.386171312703574, 32.134917729304725, 20.43764235373044, 53.48541765786139, 21.41300921211939, 18.488977697815805, 24.319878358135657, 17.514841028502058, 18.489977886518652, 16.54070720566732, 16.54068383919486, 16.540152118252493, 15.566432075823181, 15.566368553159586, 15.5664393858941, 15.566408536159072, 16.54112310277152, 15.566128130021568, 35.961890577969264, 29.216873363902376, 60.42030248595261, 97.50813665440427, 85.71452146351686, 82.76557482881317, 58.48806964583607, 32.15043643449324, 124.7730510913908, 55.49593407027593, 37.896391840765304, 53.4487537856689, 29.186855354435675, 98.42108266493304, 34.10865925517127, 307.9971583578142, 167.8342271251371, 178.18542278378135, 139.82171036116088, 103.426744421906, 54.562238116232024, 68.76954856434936, 84.8364716004104, 64.26201397041544, 237.75277971425646, 90.51973633420374, 137.70593095628735, 91.77444009129974, 147.79376856176174, 70.06214294099416, 129.86657516906678, 73.99592681862178, 191.48072080434156, 803.8548070648295, 274.85427260577256, 186.07372334983495, 163.1589979967047, 306.4340359076895, 190.1554441273066, 123.8998525124969, 254.8494682894125, 162.71698521260245, 213.57338284403224, 283.01536045192046, 121.95636925526739, 161.53017716157913, 163.2099130129018, 234.12184367687402, 302.34647433345043, 268.5137641979603, 38.389001812768804, 42.21975114655713, 26.870239511488464, 39.32530511253744, 23.03135590818633, 22.06902387883873, 56.67664066614089, 52.83541185825128, 86.46800449904782, 18.221477632163253, 14.390064081926603, 17.262361508112313, 11.511442662430952, 18.23745719845575, 16.292903446551122, 78.46760127905362, 16.28419722696018, 26.80226895725756, 31.645263380810633, 19.147274411366556, 40.18955772227328, 8.631750433563731, 12.458169098970622, 7.671836647717198, 7.671950307157873, 20.188446423100256, 33.58228715547512, 27.758165731678762, 36.44648449277571, 18.179838892874375, 95.59958109020073, 96.93212392160387, 105.65758026062842, 117.78573708942221, 35.559443489422485, 85.0119273221591, 199.00113683933074, 101.02292341395618, 45.14381488359431, 54.901189630749705, 142.66262791523997, 37.27576952579073, 41.99097586369719, 120.33277045687879, 129.77818451581405, 84.8325637860814, 63.727084038071965, 62.8441872366801, 102.98876739202454, 59.708950181379926, 72.90815716855992, 282.94427412443605, 230.32157269786683, 209.3237474816217, 115.94033775080966, 128.99304695412937, 119.71572579817423, 485.5254739281197, 211.37539248235058, 138.53740854960466, 215.73422314818575, 114.91801537520546, 112.9357554678229, 99.9067993539861, 203.5790903421851, 253.44869724604666, 123.30539886857119, 172.8096418311656, 200.8053820739529, 74.18132611605125, 49.44169052826692, 47.46260119923943, 44.493590360104946, 40.53551399617135, 38.55638985076476, 35.587527828435476, 40.52408901130404, 33.60786999510344, 30.639652232810224, 27.67089434123131, 27.67080987821844, 28.659135933770308, 26.68148137168695, 25.691806203590627, 25.69167832547869, 24.70228207475656, 24.70215427298779, 23.712487033002034, 23.711939322752958, 51.34436129166909, 22.72241627183324, 21.73341108202848, 21.732251919217532, 81.93116365784134, 20.74359979320197, 20.742911377657393, 20.743329613458652, 19.754257834892858, 19.754312772549575, 66.10674015267463, 42.43698376216301, 74.99667222533027, 62.13038324129464, 40.45277924173403, 61.207324272859424, 45.37927277280927, 38.47958552212627, 78.0399664895098, 47.297256235347305, 63.02723087036461, 34.52865293710651, 108.34119862739149, 64.00922906655558, 43.34070314169641, 171.40817645781522, 96.50766365165023, 132.0418807915384, 217.90548917781646, 392.8566393536834, 99.38191347480662, 110.41190710132183, 297.08938591194294, 803.8548070648295, 190.95279899715115, 148.12895827305638, 84.33186741272112, 80.6543681191089, 91.54281280787268, 111.05863796939238, 55.265203097107104, 262.8761488078902, 256.08998245885516, 148.4697207814733, 268.5137641979603, 105.84498183835265, 283.01536045192046, 298.7240339741693, 265.61772341053455, 234.12184367687402, 485.5254739281197, 302.34647433345043, 254.8494682894125, 282.94427412443605, 273.1049196397214, 193.4951872205605, 215.73422314818575, 328.08766300343297, 171.6826664515604, 28.587671191002915, 50.752351040054734, 19.380805810594016, 15.69330433375891, 16.633414863075235, 10.165631588135202, 9.245712123820637, 8.322226888959063, 20.348539793129657, 8.32234129436147, 93.52912134200912, 20.3506735282783, 7.4011953170638485, 22.20297288052515, 21.263556998272602, 26.864176614307805, 44.4668507347347, 5.559156794388781, 20.429848324794346, 12.080566726948916, 17.616166085442227, 8.344571664079332, 5.563614525856899, 30.740062340111134, 12.097121988775985, 9.309062259927519, 5.575810965371213, 15.790102910241036, 24.23635962717949, 37.140658075135605, 59.642613248128555, 27.08108297787439, 68.9743869886631, 71.68275492289169, 20.467141713564452, 33.34760135025252, 120.99975166695658, 32.580289308120776, 39.8960805195749, 122.31078776847798, 52.498527601506225, 75.23212830270093, 89.4581258414869, 84.56146294600377, 57.4932583527358, 198.00621277778876, 57.797206402033446, 140.21994582812474, 57.243567658301544, 68.34216300022536, 74.72871037779434, 131.4090715711945, 82.98496450235838, 256.9778623927558, 171.6826664515604, 297.08938591194294, 117.36282478725467, 173.02514764709477, 153.03062002567162, 262.8761488078902, 306.4340359076895, 193.4951872205605, 99.6473969184224, 256.08998245885516, 217.96093203160194, 25.719900356958163, 18.37920616005881, 23.884995096222227, 13.795801363596595, 12.877393873437711, 18.395872134442165, 11.965555537317128, 31.30178852783012, 40.52555344944822, 19.305747619464793, 19.305381735642, 7.373665018594355, 17.516110794478664, 6.456504867903874, 18.386543136832, 23.075914689335157, 6.459370956327421, 7.374057915469405, 16.593451639249764, 5.53881899517158, 6.462219526241368, 6.45720421674405, 41.5824484408158, 11.963052970316344, 26.870254060738834, 23.091351462145617, 12.931560935207871, 6.471692815484701, 123.04949327572996, 11.129093826135744, 36.08726596770422, 26.774612595552853, 35.191972553443755, 39.79154818535331, 107.51555928474961, 29.573704296915597, 42.54665994150673, 57.80855935459401, 33.29164203718924, 28.65897514261263, 97.16968285832586, 328.08766300343297, 79.94285226747934, 64.56516799991914, 172.8096418311656, 298.7240339741693, 62.79076549191274, 50.55168073966496, 127.86759220361677, 82.87435176840476, 65.84647973719713, 485.5254739281197, 64.87874739797843, 153.03062002567162, 273.1049196397214, 119.84296064796649, 52.256274530525005, 81.49566812100727, 44.5806430042561, 112.63804601931179, 253.44869724604666, 203.5790903421851, 114.38793137157595, 173.02514764709477, 93.3865762453041, 103.89058589990495, 128.42114372832094, 302.34647433345043], \"Category\": [\"Default\", \"Default\", \"Default\", \"Default\", \"Default\", \"Default\", \"Default\", \"Default\", \"Default\", \"Default\", \"Default\", \"Default\", \"Default\", \"Default\", \"Default\", \"Default\", \"Default\", \"Default\", \"Default\", \"Default\", \"Default\", \"Default\", \"Default\", \"Default\", \"Default\", \"Default\", \"Default\", \"Default\", \"Default\", \"Default\", \"Topic1\", \"Topic1\", \"Topic1\", \"Topic1\", \"Topic1\", \"Topic1\", \"Topic1\", \"Topic1\", \"Topic1\", \"Topic1\", \"Topic1\", \"Topic1\", \"Topic1\", \"Topic1\", \"Topic1\", \"Topic1\", \"Topic1\", \"Topic1\", \"Topic1\", \"Topic1\", \"Topic1\", \"Topic1\", \"Topic1\", \"Topic1\", \"Topic1\", \"Topic1\", \"Topic1\", \"Topic1\", \"Topic1\", \"Topic1\", \"Topic1\", \"Topic1\", \"Topic1\", \"Topic1\", \"Topic1\", \"Topic1\", \"Topic1\", \"Topic1\", \"Topic1\", \"Topic1\", \"Topic1\", \"Topic1\", \"Topic1\", \"Topic1\", \"Topic1\", \"Topic1\", \"Topic1\", \"Topic1\", \"Topic1\", \"Topic1\", \"Topic1\", \"Topic1\", \"Topic1\", \"Topic1\", \"Topic1\", \"Topic1\", \"Topic1\", \"Topic1\", \"Topic1\", \"Topic1\", \"Topic1\", \"Topic1\", \"Topic1\", \"Topic1\", \"Topic1\", \"Topic1\", \"Topic1\", \"Topic1\", \"Topic1\", \"Topic1\", \"Topic1\", \"Topic1\", \"Topic1\", \"Topic1\", \"Topic1\", \"Topic1\", \"Topic1\", \"Topic1\", \"Topic2\", \"Topic2\", \"Topic2\", \"Topic2\", \"Topic2\", \"Topic2\", \"Topic2\", \"Topic2\", \"Topic2\", \"Topic2\", \"Topic2\", \"Topic2\", \"Topic2\", \"Topic2\", \"Topic2\", \"Topic2\", \"Topic2\", \"Topic2\", \"Topic2\", \"Topic2\", \"Topic2\", \"Topic2\", \"Topic2\", \"Topic2\", \"Topic2\", \"Topic2\", \"Topic2\", \"Topic2\", \"Topic2\", \"Topic2\", \"Topic2\", \"Topic2\", \"Topic2\", \"Topic2\", \"Topic2\", \"Topic2\", \"Topic2\", \"Topic2\", \"Topic2\", \"Topic2\", \"Topic2\", \"Topic2\", \"Topic2\", \"Topic2\", \"Topic2\", \"Topic2\", \"Topic2\", \"Topic2\", \"Topic2\", \"Topic2\", \"Topic2\", \"Topic2\", \"Topic2\", \"Topic2\", \"Topic2\", \"Topic2\", \"Topic2\", \"Topic2\", \"Topic2\", \"Topic2\", \"Topic2\", \"Topic2\", \"Topic2\", \"Topic2\", \"Topic2\", \"Topic2\", \"Topic2\", \"Topic2\", \"Topic2\", \"Topic3\", \"Topic3\", \"Topic3\", \"Topic3\", \"Topic3\", \"Topic3\", \"Topic3\", \"Topic3\", \"Topic3\", \"Topic3\", \"Topic3\", \"Topic3\", \"Topic3\", \"Topic3\", \"Topic3\", \"Topic3\", \"Topic3\", \"Topic3\", \"Topic3\", \"Topic3\", \"Topic3\", \"Topic3\", \"Topic3\", \"Topic3\", \"Topic3\", \"Topic3\", \"Topic3\", \"Topic3\", \"Topic3\", \"Topic3\", \"Topic3\", \"Topic3\", \"Topic3\", \"Topic3\", \"Topic3\", \"Topic3\", \"Topic3\", \"Topic3\", \"Topic3\", \"Topic3\", \"Topic3\", \"Topic3\", \"Topic3\", \"Topic3\", \"Topic3\", \"Topic3\", \"Topic3\", \"Topic3\", \"Topic3\", \"Topic3\", \"Topic3\", \"Topic3\", \"Topic3\", \"Topic3\", \"Topic3\", \"Topic3\", \"Topic3\", \"Topic3\", \"Topic3\", \"Topic3\", \"Topic3\", \"Topic3\", \"Topic3\", \"Topic3\", \"Topic3\", \"Topic3\", \"Topic3\", \"Topic3\", \"Topic3\", \"Topic3\", \"Topic3\", \"Topic3\", \"Topic3\", \"Topic3\", \"Topic3\", \"Topic3\", \"Topic3\", \"Topic3\", \"Topic3\", \"Topic4\", \"Topic4\", \"Topic4\", \"Topic4\", \"Topic4\", \"Topic4\", \"Topic4\", \"Topic4\", \"Topic4\", \"Topic4\", \"Topic4\", \"Topic4\", \"Topic4\", \"Topic4\", \"Topic4\", \"Topic4\", \"Topic4\", \"Topic4\", \"Topic4\", \"Topic4\", \"Topic4\", \"Topic4\", \"Topic4\", \"Topic4\", \"Topic4\", \"Topic4\", \"Topic4\", \"Topic4\", \"Topic4\", \"Topic4\", \"Topic4\", \"Topic4\", \"Topic4\", \"Topic4\", \"Topic4\", \"Topic4\", \"Topic4\", \"Topic4\", \"Topic4\", \"Topic4\", \"Topic4\", \"Topic4\", \"Topic4\", \"Topic4\", \"Topic4\", \"Topic4\", \"Topic4\", \"Topic4\", \"Topic4\", \"Topic4\", \"Topic4\", \"Topic4\", \"Topic4\", \"Topic4\", \"Topic4\", \"Topic4\", \"Topic4\", \"Topic4\", \"Topic4\", \"Topic4\", \"Topic4\", \"Topic4\", \"Topic4\", \"Topic4\", \"Topic4\", \"Topic5\", \"Topic5\", \"Topic5\", \"Topic5\", \"Topic5\", \"Topic5\", \"Topic5\", \"Topic5\", \"Topic5\", \"Topic5\", \"Topic5\", \"Topic5\", \"Topic5\", \"Topic5\", \"Topic5\", \"Topic5\", \"Topic5\", \"Topic5\", \"Topic5\", \"Topic5\", \"Topic5\", \"Topic5\", \"Topic5\", \"Topic5\", \"Topic5\", \"Topic5\", \"Topic5\", \"Topic5\", \"Topic5\", \"Topic5\", \"Topic5\", \"Topic5\", \"Topic5\", \"Topic5\", \"Topic5\", \"Topic5\", \"Topic5\", \"Topic5\", \"Topic5\", \"Topic5\", \"Topic5\", \"Topic5\", \"Topic5\", \"Topic5\", \"Topic5\", \"Topic5\", \"Topic5\", \"Topic5\", \"Topic5\", \"Topic5\", \"Topic5\", \"Topic5\", \"Topic5\", \"Topic5\", \"Topic5\", \"Topic5\", \"Topic5\", \"Topic5\", \"Topic5\", \"Topic5\", \"Topic5\", \"Topic5\", \"Topic5\", \"Topic5\", \"Topic5\", \"Topic5\", \"Topic5\", \"Topic5\"], \"logprob\": [30.0, 29.0, 28.0, 27.0, 26.0, 25.0, 24.0, 23.0, 22.0, 21.0, 20.0, 19.0, 18.0, 17.0, 16.0, 15.0, 14.0, 13.0, 12.0, 11.0, 10.0, 9.0, 8.0, 7.0, 6.0, 5.0, 4.0, 3.0, 2.0, 1.0, -6.6963, -6.6965, -6.7828, -6.7829, -6.726, -6.8147, -6.9821, -7.0195, -7.0991, -7.0234, -7.1856, -6.8254, -7.2798, -6.3188, -7.2344, -7.3841, -7.1105, -7.4407, -7.3869, -7.5003, -7.5004, -7.5014, -7.5641, -7.5641, -7.5641, -7.5642, -7.5042, -7.565, -6.7285, -6.9362, -6.2126, -5.7587, -5.8906, -5.9323, -6.2719, -6.8586, -5.5703, -6.3422, -6.7057, -6.3818, -6.9581, -5.8285, -6.8147, -4.8025, -5.3559, -5.3018, -5.5275, -5.82, -6.3911, -6.1939, -6.0132, -6.262, -5.1844, -5.9919, -5.6492, -5.9992, -5.6387, -6.2238, -5.7689, -6.1997, -5.5336, -4.5548, -5.2958, -5.5709, -5.6749, -5.2707, -5.5804, -5.8544, -5.4282, -5.7196, -5.5976, -5.4516, -5.9235, -5.8542, -5.8616, -5.7851, -5.8054, -5.8271, -6.5177, -6.4254, -6.883, -6.5073, -7.0434, -7.0902, -6.1517, -6.2254, -5.7345, -7.2989, -7.5353, -7.3547, -7.7713, -7.3118, -7.4284, -5.8681, -7.4414, -6.9436, -6.7812, -7.286, -6.5457, -8.0842, -7.7185, -8.2122, -8.2128, -7.2457, -6.7381, -6.9297, -6.6602, -7.3561, -5.7021, -5.6999, -5.6231, -5.5183, -6.6978, -5.8646, -5.0665, -5.713, -6.4748, -6.2919, -5.4358, -6.6632, -6.5738, -5.6621, -5.6104, -5.9888, -6.2278, -6.2394, -5.8598, -6.2988, -6.1566, -5.1711, -5.329, -5.4161, -5.8465, -5.7738, -5.8323, -5.0126, -5.5358, -5.8129, -5.6213, -5.9382, -5.9481, -6.008, -5.6832, -5.587, -5.967, -5.9281, -5.9615, -6.2979, -6.7089, -6.7502, -6.816, -6.9108, -6.9618, -7.0437, -6.9148, -7.1024, -7.1969, -7.3015, -7.302, -7.2669, -7.3389, -7.3778, -7.3781, -7.4183, -7.4186, -7.4608, -7.4612, -6.6898, -7.5051, -7.5508, -7.5517, -6.2256, -7.5993, -7.5997, -7.6, -7.6499, -7.65, -6.4474, -6.8889, -6.332, -6.5165, -6.9397, -6.5338, -6.8279, -6.9901, -6.3248, -6.8014, -6.5332, -7.1028, -6.0289, -6.5257, -6.8927, -5.6314, -6.165, -5.8833, -5.443, -4.9316, -6.1617, -6.0721, -5.2691, -4.4395, -5.647, -5.8666, -6.3307, -6.387, -6.2917, -6.1661, -6.6821, -5.5926, -5.6659, -6.0212, -5.6523, -6.2525, -5.7298, -5.7608, -5.8204, -5.8885, -5.5912, -5.81, -5.9049, -5.9373, -5.9937, -6.0892, -6.0769, -6.0281, -6.1652, -6.3178, -5.7528, -6.7254, -6.9434, -6.9042, -7.4055, -7.5116, -7.6223, -6.7302, -7.6259, -5.2073, -6.7382, -7.753, -6.6708, -6.7209, -6.5015, -5.9992, -8.0803, -6.788, -7.3172, -6.9486, -7.6958, -8.1037, -6.4055, -7.3393, -7.6175, -8.1304, -7.0897, -6.6768, -6.252, -5.797, -6.5776, -5.6732, -5.6369, -6.8515, -6.4, -5.2171, -6.4268, -6.2888, -5.4385, -6.1369, -5.8677, -5.745, -5.8057, -6.0921, -5.4287, -6.1744, -5.6994, -6.2037, -6.1201, -6.0869, -5.848, -6.0815, -5.6093, -5.7897, -5.6236, -5.9635, -5.8888, -6.0054, -5.8818, -5.8844, -5.999, -6.115, -6.0156, -6.0924, -6.4228, -6.7691, -6.5188, -7.0734, -7.1458, -6.7893, -7.2356, -6.2874, -6.0333, -6.7872, -6.7873, -7.7525, -6.8946, -7.9023, -6.8605, -6.6355, -7.91, -7.7786, -6.9742, -8.0769, -7.9242, -7.9268, -6.066, -7.3128, -6.5078, -6.6671, -7.2475, -7.9454, -5.0207, -7.4246, -6.2495, -6.5489, -6.2878, -6.1748, -5.2278, -6.4754, -6.1463, -5.863, -6.3887, -6.5368, -5.486, -4.471, -5.7246, -5.92, -5.1755, -4.7824, -5.9508, -6.1165, -5.4629, -5.7784, -5.9434, -4.5857, -5.978, -5.4471, -5.0995, -5.6331, -6.1414, -5.9078, -6.2366, -5.8709, -5.5878, -5.6728, -5.8945, -5.8873, -6.0312, -6.0239, -6.0335, -6.0218], \"loglift\": [30.0, 29.0, 28.0, 27.0, 26.0, 25.0, 24.0, 23.0, 22.0, 21.0, 20.0, 19.0, 18.0, 17.0, 16.0, 15.0, 14.0, 13.0, 12.0, 11.0, 10.0, 9.0, 8.0, 7.0, 6.0, 5.0, 4.0, 3.0, 2.0, 1.0, 1.4528, 1.4527, 1.4509, 1.4508, 1.4506, 1.4489, 1.4459, 1.4449, 1.4424, 1.441, 1.4393, 1.438, 1.4362, 1.4352, 1.435, 1.432, 1.4315, 1.4296, 1.4293, 1.4272, 1.4271, 1.4262, 1.4242, 1.4241, 1.4241, 1.4241, 1.4233, 1.4232, 1.4224, 1.4224, 1.4195, 1.3947, 1.3918, 1.3851, 1.3926, 1.4044, 1.3365, 1.3749, 1.3928, 1.3728, 1.4015, 1.3156, 1.3891, 1.2008, 1.2545, 1.2488, 1.2655, 1.2745, 1.3429, 1.3087, 1.2794, 1.3084, 1.0777, 1.2359, 1.159, 1.2148, 1.0989, 1.2602, 1.098, 1.2296, 0.945, 0.4892, 0.8213, 0.9363, 0.9637, 0.7377, 0.9051, 1.0594, 0.7645, 0.9218, 0.7718, 0.6362, 1.0062, 0.7944, 0.7768, 0.4924, 0.2164, 0.3134, 1.5678, 1.5651, 1.5593, 1.5542, 1.5532, 1.549, 1.5443, 1.5408, 1.5391, 1.5319, 1.5316, 1.5301, 1.5188, 1.5181, 1.5142, 1.5026, 1.5018, 1.5013, 1.4976, 1.4952, 1.4941, 1.4937, 1.4925, 1.4836, 1.483, 1.4826, 1.4812, 1.4801, 1.4773, 1.4769, 1.4711, 1.4594, 1.4501, 1.4462, 1.4643, 1.426, 1.3736, 1.405, 1.4487, 1.4359, 1.337, 1.4518, 1.4221, 1.281, 1.2571, 1.3039, 1.3509, 1.3533, 1.2389, 1.345, 1.2876, 0.917, 0.9649, 0.9733, 1.1338, 1.0998, 1.1159, 0.5355, 0.8439, 0.9894, 0.738, 1.0509, 1.0585, 1.1211, 0.7341, 0.6112, 0.9517, 0.6531, 0.4695, 1.129, 1.1237, 1.1232, 1.122, 1.1204, 1.1194, 1.1176, 1.1166, 1.1162, 1.1142, 1.1115, 1.111, 1.111, 1.1105, 1.1093, 1.1091, 1.1082, 1.1078, 1.1065, 1.1062, 1.105, 1.1049, 1.1037, 1.1029, 1.1019, 1.1018, 1.1014, 1.1011, 1.1001, 1.1, 1.0947, 1.0965, 1.084, 1.0876, 1.0936, 1.0853, 1.0904, 1.0931, 1.0514, 1.0756, 1.0566, 1.0887, 1.0192, 1.0486, 1.0716, 0.9579, 0.9987, 0.967, 0.9063, 0.8283, 0.9727, 0.957, 0.7702, 0.6044, 0.8343, 0.8686, 0.9679, 0.9562, 0.9248, 0.8572, 1.0392, 0.5691, 0.5219, 0.7118, 0.4882, 0.8189, 0.358, 0.273, 0.3309, 0.389, -0.0431, 0.2118, 0.2878, 0.1509, 0.1298, 0.379, 0.2824, -0.0881, 0.4226, 2.0626, 2.0536, 2.0437, 2.0367, 2.0177, 2.0088, 1.9976, 1.9921, 1.9901, 1.9885, 1.9878, 1.9821, 1.9788, 1.9623, 1.9555, 1.941, 1.9394, 1.9376, 1.9284, 1.9246, 1.916, 1.916, 1.9135, 1.9023, 1.9011, 1.8848, 1.8845, 1.8842, 1.8687, 1.8667, 1.848, 1.8569, 1.8264, 1.8243, 1.863, 1.8264, 1.7205, 1.8228, 1.7583, 1.4883, 1.6357, 1.5451, 1.4946, 1.4902, 1.5896, 1.0163, 1.502, 1.0907, 1.4824, 1.3887, 1.3326, 1.007, 1.2332, 0.575, 0.798, 0.4157, 1.0046, 0.6911, 0.6973, 0.2799, 0.1239, 0.4691, 1.0167, 0.1722, 0.2566, 2.0633, 2.0531, 2.0414, 2.0356, 2.0321, 2.0319, 2.0157, 2.0023, 1.9982, 1.9858, 1.9856, 1.983, 1.9756, 1.966, 1.9612, 1.9591, 1.9579, 1.9568, 1.9502, 1.9447, 1.9432, 1.9413, 1.9397, 1.9388, 1.9346, 1.9268, 1.9262, 1.9205, 1.9001, 1.8992, 1.8979, 1.897, 1.8848, 1.8749, 1.8279, 1.8711, 1.8364, 1.8132, 1.8393, 1.8411, 1.6709, 1.4691, 1.6274, 1.6457, 1.4057, 1.2515, 1.6427, 1.6938, 1.4195, 1.5376, 1.6027, 0.9624, 1.5828, 1.2556, 1.024, 1.3141, 1.6358, 1.425, 1.6995, 1.1383, 0.6104, 0.7445, 1.0993, 0.6926, 1.1654, 1.0661, 0.8446, -0.0]}, \"token.table\": {\"Topic\": [1, 2, 3, 4, 5, 2, 3, 2, 3, 5, 1, 2, 3, 4, 5, 1, 2, 3, 4, 5, 5, 4, 1, 2, 3, 4, 5, 2, 5, 2, 3, 4, 5, 5, 2, 3, 5, 1, 2, 3, 4, 5, 2, 3, 3, 4, 5, 1, 2, 3, 4, 5, 1, 3, 4, 5, 4, 1, 2, 3, 4, 5, 1, 2, 3, 4, 2, 3, 5, 2, 4, 5, 1, 2, 4, 5, 1, 3, 4, 5, 1, 2, 2, 5, 3, 1, 5, 3, 4, 2, 3, 1, 3, 4, 1, 2, 3, 4, 5, 2, 5, 3, 2, 5, 1, 1, 2, 3, 4, 5, 1, 2, 5, 1, 2, 3, 5, 4, 3, 2, 3, 5, 3, 3, 4, 1, 3, 4, 3, 4, 3, 2, 4, 3, 4, 3, 1, 2, 3, 5, 2, 3, 4, 5, 2, 3, 4, 5, 1, 3, 4, 5, 4, 1, 2, 3, 4, 1, 1, 1, 2, 3, 4, 3, 4, 5, 1, 3, 4, 1, 2, 3, 4, 1, 2, 3, 4, 1, 1, 2, 1, 2, 3, 4, 5, 2, 3, 4, 2, 4, 5, 2, 3, 5, 2, 3, 4, 5, 2, 5, 2, 3, 5, 2, 5, 1, 2, 3, 4, 5, 1, 5, 2, 3, 4, 5, 2, 3, 4, 5, 5, 2, 3, 4, 3, 5, 3, 2, 4, 1, 2, 3, 4, 5, 1, 2, 3, 4, 5, 5, 3, 4, 3, 2, 5, 2, 3, 4, 5, 1, 2, 4, 2, 4, 1, 2, 4, 5, 1, 3, 4, 1, 2, 3, 4, 5, 1, 3, 4, 1, 3, 1, 1, 2, 3, 5, 1, 2, 3, 4, 5, 3, 5, 2, 1, 2, 4, 1, 1, 2, 4, 1, 4, 5, 1, 3, 4, 1, 4, 2, 3, 4, 5, 1, 2, 3, 4, 1, 2, 5, 1, 2, 5, 1, 2, 5, 1, 4, 1, 2, 3, 4, 3, 1, 2, 3, 4, 5, 1, 2, 3, 4, 5, 1, 3, 2, 3, 4, 5, 1, 3, 1, 3, 1, 1, 1, 5, 3, 4, 5, 1, 1, 2, 3, 4, 5, 1, 2, 3, 4, 5, 1, 2, 3, 4, 5, 1, 2, 3, 4, 1, 2, 4, 5, 2, 3, 4, 5, 2, 4, 2, 3, 4, 5, 2, 3, 4, 5, 2, 3, 4, 5, 2, 3, 4, 5, 2, 2, 4, 1, 2, 3, 4, 5, 1, 2, 3, 4, 5, 1, 3, 4, 5, 3, 2, 3, 4, 5, 3, 1, 3, 4, 5, 1, 2, 3, 4, 5, 2, 3, 4, 5, 2, 3, 5, 1, 2, 3, 1, 3, 4, 1, 3, 4, 5, 1, 2, 3, 4, 5, 1, 2, 3, 4, 5, 1, 2, 3, 4, 5, 1, 1, 2, 3, 4, 5, 1, 3, 4, 5, 1, 2, 3, 4, 5, 1, 2, 3, 4, 5, 1, 2, 3, 5, 2, 3, 2, 3, 5, 1, 2, 4, 1, 2, 3, 4, 5, 2, 4, 2, 3, 2, 4, 3, 4, 3, 4, 5, 2, 4, 5, 1, 2, 3, 4, 1, 2, 3, 4, 2, 3, 4, 1, 2, 3, 4, 5, 2, 3, 5, 1, 2, 3, 4, 5, 2, 4, 2, 1, 3, 4, 5, 3, 1, 3, 2, 4, 1, 2, 3, 4, 5, 1, 3, 1, 4, 2, 4, 1, 2, 3, 4, 5, 2, 3, 4, 5, 2, 3, 4, 5, 1, 2, 3, 4, 5, 3, 1, 1, 3, 4, 1, 2, 3, 4, 5, 2, 5, 2, 5, 1, 2, 3, 4, 5, 1, 2, 3, 4, 1, 1, 2, 3, 4, 5, 1, 2, 4, 5, 3, 2, 3, 4, 5, 2, 3, 4, 5, 1, 2, 4, 5, 3, 3, 1, 2, 3, 4, 5, 3, 4, 2, 3, 4, 5, 5, 2, 5, 1, 2, 3, 4, 5, 1, 2, 4, 5, 4, 2, 3, 4, 5, 1, 2, 4, 5, 4, 1, 2, 3, 4, 5, 2, 3, 4, 2, 3, 4, 5, 4, 5, 3, 5, 1, 2, 3, 1, 2, 3, 4, 5, 3, 1, 4, 4, 5, 3, 4, 1, 2, 5, 5, 3, 3, 1, 2, 3, 4, 5, 1, 3, 4, 5, 2, 3, 4, 5, 1, 2, 3, 4, 5, 3, 1, 3, 5, 1, 2, 3, 4, 5, 2, 3, 4, 5, 1, 3, 4, 1, 2, 1, 2, 3, 4, 5, 1, 2, 3, 4, 5, 2, 3, 4, 5, 1, 2, 4, 5, 5, 1, 2, 3, 4, 5, 2, 3, 4, 5, 1, 2, 3, 4, 5, 2, 3, 5, 1, 3, 2, 1, 2, 3, 4, 5, 1, 3, 4, 5, 3, 3, 4, 3, 4, 5, 1, 3, 1, 1, 2, 3, 4, 5, 2, 3, 4, 5, 2, 3, 5, 2, 4, 1, 2, 3, 4, 5, 1, 2, 3, 4, 5, 1, 1, 3, 5, 1, 3, 4, 5, 1, 1, 2, 3, 4, 5, 2, 2, 4, 5, 3, 4, 5, 2, 4, 4, 5, 1, 2, 3, 4, 5, 1, 3, 4, 5, 2, 5, 3, 5, 1, 3, 3, 2, 3, 4, 5, 4, 2, 4, 5, 2, 3, 4, 5, 1, 2, 3, 4, 5, 1, 2, 3, 4, 5, 2, 4, 1, 2, 3, 5, 2, 3, 5, 5, 1, 1, 2, 3, 4, 5, 1, 3, 1, 2, 4, 5, 1, 2, 3, 4, 5, 1, 2, 3, 4, 5, 1, 3, 4, 2, 3, 5, 1, 1, 3, 4, 1, 2, 3, 4, 5, 1, 2, 3, 4, 5, 3, 3, 1, 1, 3, 4, 2, 5, 1, 2, 3, 4, 5], \"Freq\": [0.00353426484099908, 0.5124684019448665, 0.37109780830490335, 0.02120558904599448, 0.09542515070697516, 0.7845957610445332, 0.20399489787157865, 0.7166073431137229, 0.19263638255745238, 0.09246546362757715, 0.008701855812032746, 0.5830243394061939, 0.21754639530081862, 0.052211134872196474, 0.14793154880455667, 0.017484361995350993, 0.17484361995350992, 0.3933981448953973, 0.04371090498837748, 0.36717160190237086, 0.9291947100637636, 0.9794431946877902, 0.01564117979804604, 0.21897651717264457, 0.08602648888925322, 0.17987356767752946, 0.5083383434364963, 0.0773301850418822, 0.8506320354607043, 0.28156351428108395, 0.3120028131222822, 0.33483228725318087, 0.06848842239269609, 0.9292953575899525, 0.15413367860908475, 0.2312005179136271, 0.6011213465754305, 0.010035385077029786, 0.37130924785010205, 0.2007077015405957, 0.3412030926190127, 0.0702476955392085, 0.9527734771383524, 0.03528790656067972, 0.9730777290328773, 0.08359070234674022, 0.8359070234674022, 0.03804072771664042, 0.15216291086656167, 0.5668068429779423, 0.16357512918155379, 0.08368960097660892, 0.9700272268753699, 0.39794310887646644, 0.5536599775672577, 0.03460374859795361, 0.8967305439608142, 0.06005597255439062, 0.6305877118211015, 0.18016791766317186, 0.06005597255439062, 0.06005597255439062, 0.2087201237817648, 0.0521800309454412, 0.1391467491878432, 0.608767027696814, 0.9329649517552194, 0.08985457536997161, 0.8086911783297446, 0.13525529165506608, 0.03381382291376652, 0.8115317499303965, 0.108590579168491, 0.6264841105874481, 0.108590579168491, 0.15870930801548686, 0.6618248394745202, 0.29055724659856985, 0.024213103883214154, 0.03228413851095221, 0.9715235662110064, 0.9555709325556466, 0.8800958080146262, 0.055005988000914136, 0.9870672228767968, 0.9454452881525883, 0.027807214357429066, 0.9530041846640817, 0.030254101100447038, 0.8560834531293232, 0.12750179089160132, 0.8403097983337434, 0.10892904793215193, 0.03112258512347198, 0.1329286540873886, 0.03467704019671007, 0.34099089526764903, 0.24851878807642216, 0.24851878807642216, 0.9662989235876286, 0.025428919041779702, 0.9618179614138387, 0.06389411257512712, 0.9264646323393432, 0.9735003530276852, 0.10987764301333926, 0.5398336374133624, 0.12898679832000695, 0.14809595362667463, 0.07165933240000386, 0.04333522694388203, 0.04333522694388203, 0.8667045388776405, 0.6006410998060879, 0.09193486221521753, 0.30032054990304397, 0.006128990814347836, 0.95582164730805, 0.9715751806410015, 0.12149472579140393, 0.27336313303065884, 0.6074736289570196, 0.9791233846928178, 0.16265419193622635, 0.8132709596811318, 0.09789597887384867, 0.048947989436924334, 0.8321158204277137, 0.1846307255911836, 0.7754490474829712, 0.977000844153378, 0.1116728810665355, 0.8561587548434388, 0.9557279880019957, 0.028961454181878656, 0.9699530870797979, 0.06424803731573572, 0.0871937649284985, 0.7939221754015915, 0.055069746270630625, 0.09401443040415419, 0.047007215202077096, 0.07051082280311564, 0.7756190508342722, 0.10467924917312699, 0.034893083057708996, 0.06978616611541799, 0.7676478272695979, 0.1543691361210895, 0.12349530889687159, 0.07203893018984175, 0.6586416474499818, 0.885336038589509, 0.9182561730187141, 0.04832927226414285, 0.024164636132071426, 0.8986963379224963, 0.9636119521118183, 0.9666732823702404, 0.050243723778207405, 0.7871516725252493, 0.13398326340855307, 0.03349581585213827, 0.9699754915419418, 0.04186728931579999, 0.9629476542633998, 0.9673429775983486, 0.16532857995940278, 0.8266428997970139, 0.1818185549715298, 0.024793439314299517, 0.09917375725719807, 0.6942163008003865, 0.097717601606995, 0.097717601606995, 0.0488588008034975, 0.78174081285596, 0.9672861933612685, 0.9250739647050286, 0.034261998692778836, 0.5857893206934459, 0.053742139513160175, 0.29558176732238095, 0.04836792556184416, 0.01612264185394805, 0.05402551399607109, 0.7563571959449953, 0.18908929898624882, 0.060264737062578545, 0.060264737062578545, 0.8437063188760997, 0.026667849927939816, 0.9467086724418635, 0.026667849927939816, 0.5485882895866893, 0.2021114751108855, 0.15158360633316412, 0.09383747058719684, 0.9327568512900272, 0.07462054810320216, 0.951559983590222, 0.9889064839202655, 0.9284735647923417, 0.926810855060495, 0.9493243837830883, 0.07762613232457267, 0.6382593102242643, 0.02587537744152423, 0.04312562906920704, 0.21562814534603522, 0.9535309292383158, 0.0186966848870258, 0.15686397205650487, 0.26546210655716207, 0.012066459388961913, 0.5671235912812099, 0.2456422548185366, 0.7274789854241276, 0.009447779031482176, 0.018895558062964352, 0.9720099865486685, 0.12666161907677334, 0.06333080953838667, 0.8233005239990266, 0.9615488186255153, 0.025987805908797713, 0.9662542120396856, 0.11983838598986152, 0.8388687019290306, 0.03809630653227346, 0.05714445979841019, 0.19048153266136728, 0.6285890577825121, 0.07619261306454692, 0.28444188141963495, 0.09922391212312846, 0.39689564849251385, 0.09591644838569084, 0.12237615828519177, 0.9318655713989212, 0.9496159032346988, 0.048285554401764345, 0.9715701540193232, 0.05436002124235921, 0.9241203611201066, 0.26138559716538956, 0.058811759362212654, 0.2483163173071201, 0.4312862353228928, 0.33454344218723137, 0.18734432762484957, 0.46836081906212396, 0.11353208128826478, 0.8514906096619858, 0.010050193841931452, 0.8090406042754819, 0.05527606613062298, 0.12562742302414315, 0.873586075250835, 0.10418916493817298, 0.01602910229818046, 0.7969226538374553, 0.016836394095157504, 0.14030328412631254, 0.016836394095157504, 0.02806065682526251, 0.8135634681914453, 0.12845738971443874, 0.05709217320641721, 0.9088601157871674, 0.0586361365023979, 0.9862450326969325, 0.031085614203952408, 0.07253309980922229, 0.8703971977106674, 0.020723742802634938, 0.011825717828918643, 0.34294581703864063, 0.0827800248024305, 0.5439830201302576, 0.023651435657837287, 0.9640870350822464, 0.024720180386724265, 0.9676132581134459, 0.061386809094463486, 0.15346702273615873, 0.7673351136807937, 0.9827495596585365, 0.10410989890991258, 0.8707373363374507, 0.018929072529075015, 0.07469762607628509, 0.07469762607628509, 0.821673886839136, 0.8534756753893015, 0.12192509648418592, 0.02032084941403099, 0.01970352071396221, 0.9654725149841483, 0.32848581192234416, 0.22194987292050283, 0.0710239593345609, 0.3817537814232649, 0.06415114259503972, 0.010691857099173287, 0.021383714198346573, 0.8981159963305562, 0.964874284686427, 0.05709029885305446, 0.9134447816488713, 0.9735530159748329, 0.23252448451473653, 0.7626803092083358, 0.9457284144805715, 0.9211384381396426, 0.0614092292093095, 0.9807122292794963, 0.945793172605664, 0.07646695338815283, 0.10923850484021833, 0.8083649358176156, 0.010923850484021834, 0.9682068903592463, 0.020201386329675296, 0.22221524962642827, 0.26766836886819767, 0.34342356760448006, 0.15151039747256473, 0.4797117251175141, 0.08158362672066566, 0.21864411961138397, 0.14032383795954495, 0.08158362672066566, 0.6901508838471433, 0.3112445162447901, 0.2050494003325715, 0.36615964345102053, 0.08787831442824492, 0.34052846840944906, 0.9331133050440927, 0.06220755366960618, 0.9646827249142212, 0.031118797577878103, 0.9715195133875303, 0.9785864560032994, 0.9673118811500615, 0.9288830198121021, 0.2769443032388637, 0.05934520783689937, 0.6725790221515262, 0.9673105146627552, 0.21104699622650955, 0.2936306034455785, 0.2569267780148812, 0.16057923625930073, 0.07799562904023179, 0.3128331251506029, 0.08938089290017226, 0.5213885419176715, 0.04469044645008613, 0.0335178348375646, 0.3758726593724173, 0.06834048352225769, 0.4741121044356627, 0.06834048352225769, 0.017085120880564422, 0.8433965499384944, 0.0436239594795773, 0.014541319826525767, 0.0872479189591546, 0.012508935716405491, 0.26268765004451533, 0.08756255001483844, 0.6254467858202746, 0.05542121150961869, 0.08313181726442803, 0.027710605754809346, 0.8313181726442804, 0.917576156609491, 0.07646467971745757, 0.8769022751296127, 0.061898984126796196, 0.030949492063398098, 0.020632994708932064, 0.12015027662293444, 0.03003756915573361, 0.06007513831146722, 0.7809767980490738, 0.0852467134498953, 0.0852467134498953, 0.0284155711499651, 0.7956359921990228, 0.12532559426600223, 0.02506511885320045, 0.7268884467428129, 0.12532559426600223, 0.912428186552029, 0.900635879245759, 0.07205087033966072, 0.07479259362041488, 0.7396156480241026, 0.13296461088073755, 0.016620576360092194, 0.03324115272018439, 0.12251457564025979, 0.011668054822881885, 0.8342659198360548, 0.02333610964576377, 0.005834027411440942, 0.015925908725046473, 0.27074044832579003, 0.07962954362523236, 0.6370363490018589, 0.9641528085474509, 0.0075733547114400284, 0.8406423729698432, 0.0530134829800802, 0.09845361124872037, 0.984075155057175, 0.7843593328405661, 0.15466240365870318, 0.011047314547050227, 0.04418925818820091, 0.5901377408928047, 0.010444915768014243, 0.2872351836203917, 0.06266949460808546, 0.04700212095606409, 0.1463225563985592, 0.33654187971668614, 0.49749669175510125, 0.01463225563985592, 0.9268720268939405, 0.9738167686217334, 0.019476335372434667, 0.03618913688755975, 0.054283705331339624, 0.9047284221889937, 0.016337913997711225, 0.947599011867251, 0.016337913997711225, 0.4962933838068826, 0.44114967449500675, 0.04901663049944519, 0.018381236437291948, 0.6231736846882026, 0.008199653745897402, 0.20499134364743504, 0.10659549869666622, 0.05739757622128181, 0.08435262992491928, 0.4097127739210365, 0.03615112711067969, 0.42176314962459643, 0.04820150281423959, 0.5076450818101632, 0.043335555764282226, 0.26620412826630513, 0.1485790483346819, 0.03714476208367048, 0.9636134092945482, 0.6729679467566951, 0.00841209933445869, 0.20189038402700854, 0.050472596006752135, 0.06729679467566951, 0.8043651304768966, 0.1787478067726437, 0.00595826022575479, 0.01191652045150958, 0.015573759444403208, 0.4672127833320962, 0.1868851133328385, 0.03893439861100802, 0.28811454972145933, 0.6853187579955455, 0.1232033722239183, 0.10780295069592852, 0.046201264583969365, 0.03850105381997447, 0.921664131714545, 0.023333269157330253, 0.046666538314660506, 0.011666634578665127, 0.9463350098252623, 0.03785340039301049, 0.893328076825432, 0.05955520512169547, 0.029777602560847737, 0.031600305801417025, 0.9164088682410938, 0.031600305801417025, 0.4310720089721976, 0.02120026273633759, 0.4593390259539811, 0.08126767382262742, 0.0035333771227229315, 0.8573270627683455, 0.14288784379472425, 0.89159906724689, 0.04953328151371611, 0.9711094662229767, 0.9612811699009847, 0.9475691736022067, 0.044072984818707285, 0.04503901371140835, 0.9007802742281671, 0.04503901371140835, 0.8314944485995296, 0.059392460614252116, 0.09898743435708686, 0.030186579178318015, 0.0804975444755147, 0.8452242169929044, 0.030186579178318015, 0.04992157113354104, 0.07131653019077291, 0.5134790173735649, 0.37084595699201917, 0.04126032190406044, 0.12378096571218132, 0.7839461161771484, 0.17054687754266518, 0.1550426159478774, 0.46512784784363226, 0.19638731353397806, 0.010336174396525162, 0.5271464234042358, 0.4298270836988384, 0.03243977990179912, 0.007752355833222588, 0.6124361108245845, 0.16279947249767435, 0.031009423332890352, 0.18605653999734212, 0.920637152956137, 0.07464625564509218, 0.9552194880623706, 0.031245494269591, 0.906119333818139, 0.0156227471347955, 0.031245494269591, 0.9855694515768124, 0.9229998960905675, 0.07178888080704414, 0.13493197518737657, 0.8545691761867182, 0.11454560135227121, 0.1298183481992407, 0.7330918486545357, 0.010181831231312995, 0.012727289039141245, 0.7597472692528924, 0.23701517374128694, 0.20119842754167938, 0.7880271745382442, 0.049143575419482104, 0.8845843575506778, 0.02317666583926996, 0.42645065144256733, 0.42645065144256733, 0.11124799602849582, 0.013905999503561977, 0.14878301423524415, 0.8307051628134464, 0.012398584519603678, 0.012398584519603678, 0.019136457946611934, 0.21050103741273127, 0.13395520562628355, 0.6315031122381938, 0.49048562211653246, 0.00784776995386452, 0.4277034624856163, 0.05101050470011938, 0.02354330986159356, 0.9663057504606777, 0.953862552612722, 0.1449119068771927, 0.833243464543858, 0.018113988359649086, 0.07700408974214207, 0.33689289262187155, 0.12513164583098085, 0.10588062339544535, 0.35614391505740706, 0.07402736655385139, 0.9130041874975006, 0.1759167541658155, 0.8041908761865852, 0.24094777704679973, 0.1468275516378936, 0.444247463930037, 0.12423869753975612, 0.04141289917991871, 0.8980564858907925, 0.018709510122724843, 0.018709510122724843, 0.037419020245449686, 0.9892182418587572, 0.5679563921803649, 0.08414168773042442, 0.16828337546084884, 0.07362397676412137, 0.10517710966303052, 0.023526110547062995, 0.8469399796942678, 0.05881527636765749, 0.05881527636765749, 0.9910664355618182, 0.912414668988282, 0.9302865219297198, 0.021142875498402724, 0.021142875498402724, 0.05928956814782652, 0.8419118676991366, 0.04743165451826122, 0.04743165451826122, 0.14621412750335666, 0.02658438681879212, 0.5848565100134266, 0.23925948136912906, 0.9641653665390166, 0.9730728856465553, 0.013463961318313799, 0.06731980659156898, 0.6900280175635821, 0.18849545845639318, 0.037025893625362946, 0.08277757348661749, 0.8277757348661748, 0.2726587406021189, 0.23857639802685404, 0.3408234257526486, 0.15337054158869187, 0.8136632596027099, 0.8878548264764069, 0.05222675449861217, 0.04715170474025313, 0.7544272758440501, 0.011787926185063283, 0.10609133566556954, 0.08251548329544298, 0.015912370641915672, 0.7956185320957836, 0.06364948256766269, 0.12729896513532538, 0.8652659625199463, 0.5383777062110537, 0.21708778476252166, 0.0911768696002591, 0.15196144933376515, 0.010460296882017439, 0.8891252349714823, 0.010460296882017439, 0.08368237505613951, 0.8994169772377756, 0.008854591673448495, 0.5932576421210491, 0.07969132506103646, 0.15938265012207292, 0.15938265012207292, 0.8639057222027766, 0.08860571509772068, 0.04430285754886034, 0.32867644939762336, 0.4133355348485263, 0.14939838608982878, 0.10955881646587444, 0.05179902752991302, 0.8805834680085213, 0.9459929587657172, 0.04614599798857157, 0.11248769967926636, 0.8717796725143143, 0.9819128675756004, 0.054863545525532964, 0.7406578645946951, 0.10972709105106593, 0.054863545525532964, 0.04114765914414972, 0.9902533534287867, 0.06011994579777571, 0.9017991869666356, 0.10877520505709372, 0.8702016404567497, 0.10742220559687031, 0.8593776447749625, 0.05487497704741407, 0.9054371212823322, 0.027437488523707036, 0.9793676529466822, 0.9867890167564686, 0.9641848068416472, 0.0388391870423508, 0.7088151635229021, 0.058258780563526194, 0.1553567481694032, 0.0485489838029385, 0.15488227336468052, 0.13939404602821248, 0.06195290934587221, 0.6350173207951901, 0.9483276557041741, 0.03469491423307954, 0.0517980458312716, 0.8805667791316173, 0.49631652871935533, 0.018728925612051146, 0.2809338841807672, 0.1030090908662813, 0.09832685946326851, 0.96181528655364, 0.8218377217140447, 0.16436754434280892, 0.009668679078988761, 0.3732017241962024, 0.017416080462489446, 0.5859267069880377, 0.003732017241962024, 0.019904091957130794, 0.8659792137868291, 0.050939953752166416, 0.008489992292027735, 0.07640993062824962, 0.923570775472887, 0.026387736442082487, 0.052775472884164974, 0.05483220545047665, 0.932147492658103, 0.17474099523299508, 0.04077289888769885, 0.4892747866523862, 0.2737608925316923, 0.017474099523299508, 0.011178414376486324, 0.10060572938837692, 0.25710353065918545, 0.5477423044478299, 0.08942731501189059, 0.05840977193948168, 0.33377012536846673, 0.14185230328159837, 0.45893392238164177, 0.1349764994093534, 0.2699529988187068, 0.0736235451323746, 0.5153648159266221, 0.9027195155427012, 0.009824191652680577, 0.42735233689160507, 0.2161322163589727, 0.08841772487412519, 0.2603410787960353, 0.41761890807043156, 0.11778994843012172, 0.0642490627800664, 0.3962025538104094, 0.016253622398252298, 0.0487608671947569, 0.07314130079213534, 0.04063405599563075, 0.8208079311117411, 0.8852935947349828, 0.026827078628332814, 0.10730831451333125, 0.9433915034313538, 0.049652184391123885, 0.9728935132112088, 0.3453571352024591, 0.47309196603076586, 0.10881115218707614, 0.05204011626338424, 0.014192758980922976, 0.7838269279627935, 0.16217108854402626, 0.040542772136006565, 0.013514257378668855, 0.9834906253879758, 0.9642240689991615, 0.024410735924029404, 0.9661384095953532, 0.023564351453545202, 0.023564351453545202, 0.07688368242452444, 0.9097902420235392, 0.9636114995952515, 0.008238496669676668, 0.3480764842938392, 0.30688400094545587, 0.01441736917193417, 0.32130137011739, 0.12191863489722701, 0.29260472375334484, 0.04876745395889081, 0.5333940276753683, 0.05189542921487096, 0.19028324045452685, 0.7611329618181074, 0.049138422795218496, 0.8844916103139329, 0.11160285355390578, 0.013950356694238223, 0.05580142677695289, 0.7672696181831022, 0.05580142677695289, 0.014498135375445437, 0.1159850830035635, 0.10148694762811807, 0.7684011748986082, 0.014498135375445437, 0.9636307676968362, 0.8797293083496187, 0.09163846961975194, 0.01832769392395039, 0.7736358830341786, 0.07627396029914438, 0.02179256008546982, 0.14165164055555385, 0.9636158843839896, 0.021028632682852214, 0.778059409265532, 0.08411453073140886, 0.05607635382093924, 0.06308589804855665, 0.9898668422100151, 0.393496562341329, 0.10416085473741063, 0.503444131230818, 0.08996149283694382, 0.7796662712535132, 0.14993582139490638, 0.43673029167626426, 0.5415455616785677, 0.961267955379352, 0.919305415088682, 0.8081720621791842, 0.014303930304056358, 0.1001275121283945, 0.05006375606419725, 0.028607860608112715, 0.06729378039059666, 0.11215630065099445, 0.15701882091139224, 0.6729378039059667, 0.12991877088346235, 0.8228188822619282, 0.11164762317537652, 0.85596511101122, 0.9583503221324897, 0.03422679721901749, 0.975754511836228, 0.026924671016248517, 0.10769868406499407, 0.8077401304874555, 0.053849342032497034, 0.9803513943478109, 0.0470288202524741, 0.893547584797008, 0.0470288202524741, 0.11046985259596995, 0.42179398263915796, 0.03682328419865665, 0.4284891252207319, 0.024527681120644063, 0.08175893706881354, 0.34338753568901687, 0.5477848783610507, 0.772595384632069, 0.2485710152964011, 0.3748293087802874, 0.07891143342742893, 0.07102029008468604, 0.22489758526817244, 0.882954783533071, 0.08026861668482464, 0.8251168239257768, 0.023574766397879338, 0.14144859838727603, 0.011787383198939669, 0.09619443178516028, 0.04809721589258014, 0.8657498860664424, 0.9423156841257152, 0.9666739327377706, 0.033754372259765394, 0.16202098684687388, 0.762848813070698, 0.033754372259765394, 0.013501748903906157, 0.9232652116403779, 0.06839001567706503, 0.5776901524888852, 0.3011363560846317, 0.03072819960047262, 0.09218459880141786, 0.5202757033546536, 0.09459558242811883, 0.23648895607029705, 0.105510457323671, 0.047297791214059415, 0.11521171784618994, 0.05236896265735907, 0.7384023734687628, 0.06284275518883088, 0.03142137759441544, 0.7261851345512742, 0.2469029457474332, 0.021785554036538226, 0.08307089190468459, 0.8860895136499688, 0.027690297301561525, 0.9706054409706458, 0.9009669057319355, 0.07207735245855484, 0.01801933811463871, 0.28407116208488575, 0.2257003753551147, 0.16732958862534367, 0.21791760379114522, 0.10506741611358787, 0.10933656885426447, 0.1796243631177202, 0.5388730893531607, 0.14838534344507323, 0.023429264754485247, 0.9744586381020769, 0.9757574902516143, 0.9511281587155566, 0.015866157947773647, 0.9202371609708715, 0.06346463179109459, 0.9206462217865286, 0.06137641478576857, 0.06735380081113376, 0.20879678251451467, 0.6533318678679975, 0.060618420730020384, 0.013470760162226751], \"Term\": [\"000\", \"000\", \"000\", \"000\", \"000\", \"1959\", \"1959\", \"1960\", \"1960\", \"1960\", \"1961\", \"1961\", \"1961\", \"1961\", \"1961\", \"30\", \"30\", \"30\", \"30\", \"30\", \"62\", \"academic\", \"act\", \"act\", \"act\", \"act\", \"act\", \"adjustments\", \"adjustments\", \"administration\", \"administration\", \"administration\", \"administration\", \"adopting\", \"agreement\", \"agreement\", \"agreement\", \"aid\", \"aid\", \"aid\", \"aid\", \"aid\", \"aircraft\", \"aircraft\", \"alexander\", \"allocation\", \"allocation\", \"american\", \"american\", \"american\", \"american\", \"american\", \"anne\", \"anti\", \"anti\", \"anti\", \"appearances\", \"areas\", \"areas\", \"areas\", \"areas\", \"areas\", \"art\", \"art\", \"art\", \"art\", \"assessment\", \"assigned\", \"assigned\", \"authorized\", \"authorized\", \"authorized\", \"available\", \"available\", \"available\", \"available\", \"away\", \"away\", \"away\", \"away\", \"baby\", \"bankers\", \"banks\", \"banks\", \"baseball\", \"bed\", \"bed\", \"berlin\", \"berlin\", \"billion\", \"billion\", \"black\", \"black\", \"black\", \"board\", \"board\", \"board\", \"board\", \"board\", \"boats\", \"boats\", \"bombs\", \"bonds\", \"bonds\", \"bride\", \"business\", \"business\", \"business\", \"business\", \"business\", \"calendar\", \"calendar\", \"calendar\", \"came\", \"came\", \"came\", \"came\", \"campus\", \"captain\", \"cars\", \"cars\", \"cars\", \"castro\", \"catholic\", \"catholic\", \"cattle\", \"cattle\", \"cattle\", \"chamber\", \"chamber\", \"charter\", \"chemical\", \"chemical\", \"china\", \"china\", \"chinese\", \"city\", \"city\", \"city\", \"city\", \"claim\", \"claim\", \"claim\", \"claim\", \"claims\", \"claims\", \"claims\", \"claims\", \"class\", \"class\", \"class\", \"class\", \"classical\", \"clay\", \"clay\", \"clay\", \"clerical\", \"cloth\", \"clothes\", \"co\", \"co\", \"co\", \"co\", \"coach\", \"coal\", \"coal\", \"coat\", \"collective\", \"collective\", \"college\", \"college\", \"college\", \"college\", \"colleges\", \"colleges\", \"colleges\", \"colleges\", \"colored\", \"colors\", \"colors\", \"come\", \"come\", \"come\", \"come\", \"come\", \"committee\", \"committee\", \"committee\", \"commodities\", \"commodities\", \"commodities\", \"communist\", \"communist\", \"communist\", \"company\", \"company\", \"company\", \"company\", \"compared\", \"compared\", \"components\", \"congo\", \"connections\", \"conservation\", \"coordination\", \"cost\", \"cost\", \"cost\", \"cost\", \"cost\", \"couldn\", \"couldn\", \"countries\", \"countries\", \"countries\", \"countries\", \"county\", \"county\", \"county\", \"county\", \"cousin\", \"creative\", \"creative\", \"creative\", \"cuba\", \"cuba\", \"cuban\", \"curriculum\", \"curriculum\", \"daily\", \"daily\", \"daily\", \"daily\", \"daily\", \"day\", \"day\", \"day\", \"day\", \"day\", \"definition\", \"democratic\", \"democratic\", \"democrats\", \"denied\", \"denied\", \"department\", \"department\", \"department\", \"department\", \"design\", \"design\", \"design\", \"designer\", \"designer\", \"development\", \"development\", \"development\", \"development\", \"didn\", \"didn\", \"didn\", \"don\", \"don\", \"don\", \"don\", \"don\", \"door\", \"door\", \"door\", \"drill\", \"drill\", \"dry\", \"east\", \"east\", \"east\", \"east\", \"education\", \"education\", \"education\", \"education\", \"education\", \"eisenhower\", \"eisenhower\", \"electronic\", \"engineer\", \"engineer\", \"engineer\", \"entrance\", \"equipment\", \"equipment\", \"equipment\", \"exercise\", \"exercise\", \"exercise\", \"eyes\", \"eyes\", \"eyes\", \"faculty\", \"faculty\", \"federal\", \"federal\", \"federal\", \"federal\", \"feed\", \"feed\", \"feed\", \"feed\", \"fig\", \"filing\", \"filing\", \"fingers\", \"fiscal\", \"fiscal\", \"flowers\", \"forests\", \"forests\", \"frames\", \"fulfill\", \"game\", \"game\", \"game\", \"game\", \"gen\", \"general\", \"general\", \"general\", \"general\", \"general\", \"good\", \"good\", \"good\", \"good\", \"good\", \"got\", \"got\", \"government\", \"government\", \"government\", \"government\", \"guests\", \"guests\", \"hadn\", \"hadn\", \"hair\", \"ham\", \"handsome\", \"hated\", \"hearing\", \"hearing\", \"hearing\", \"hell\", \"high\", \"high\", \"high\", \"high\", \"high\", \"home\", \"home\", \"home\", \"home\", \"home\", \"house\", \"house\", \"house\", \"house\", \"house\", \"inch\", \"inch\", \"inch\", \"inch\", \"income\", \"income\", \"income\", \"income\", \"india\", \"india\", \"india\", \"india\", \"industrial\", \"industrial\", \"industry\", \"industry\", \"industry\", \"industry\", \"insurance\", \"insurance\", \"insurance\", \"insurance\", \"interference\", \"interference\", \"interference\", \"interference\", \"interior\", \"interior\", \"interior\", \"interior\", \"inventories\", \"investment\", \"investment\", \"island\", \"island\", \"island\", \"island\", \"island\", \"john\", \"john\", \"john\", \"john\", \"john\", \"junior\", \"junior\", \"junior\", \"junior\", \"katanga\", \"kennedy\", \"kennedy\", \"kennedy\", \"kennedy\", \"khrushchev\", \"knew\", \"knew\", \"knew\", \"knew\", \"know\", \"know\", \"know\", \"know\", \"know\", \"labor\", \"labor\", \"labor\", \"labor\", \"laboratory\", \"laos\", \"laos\", \"leaders\", \"leaders\", \"leaders\", \"league\", \"league\", \"league\", \"left\", \"left\", \"left\", \"left\", \"let\", \"let\", \"let\", \"let\", \"let\", \"level\", \"level\", \"level\", \"level\", \"level\", \"life\", \"life\", \"life\", \"life\", \"life\", \"liked\", \"little\", \"little\", \"little\", \"little\", \"little\", \"ll\", \"ll\", \"ll\", \"ll\", \"local\", \"local\", \"local\", \"local\", \"local\", \"look\", \"look\", \"look\", \"look\", \"look\", \"looked\", \"looked\", \"looked\", \"looked\", \"machine\", \"machine\", \"machinery\", \"machinery\", \"machinery\", \"machines\", \"machines\", \"machines\", \"man\", \"man\", \"man\", \"man\", \"man\", \"manufacturers\", \"manufacturers\", \"manufacturing\", \"manufacturing\", \"marketing\", \"mathematics\", \"mayor\", \"mayor\", \"meat\", \"meat\", \"meat\", \"medical\", \"medical\", \"medical\", \"meeting\", \"meeting\", \"meeting\", \"meeting\", \"members\", \"members\", \"members\", \"members\", \"membership\", \"membership\", \"membership\", \"men\", \"men\", \"men\", \"men\", \"men\", \"military\", \"military\", \"military\", \"million\", \"million\", \"million\", \"million\", \"million\", \"missile\", \"missile\", \"missiles\", \"monday\", \"monday\", \"monday\", \"monday\", \"moscow\", \"mother\", \"mother\", \"motors\", \"motors\", \"mr\", \"mr\", \"mr\", \"mr\", \"mr\", \"mrs\", \"mrs\", \"music\", \"music\", \"musical\", \"musical\", \"national\", \"national\", \"national\", \"national\", \"national\", \"nations\", \"nations\", \"nations\", \"nations\", \"officer\", \"officer\", \"officer\", \"officer\", \"old\", \"old\", \"old\", \"old\", \"old\", \"opposition\", \"pale\", \"party\", \"party\", \"party\", \"pay\", \"pay\", \"pay\", \"pay\", \"pay\", \"payment\", \"payment\", \"payments\", \"payments\", \"people\", \"people\", \"people\", \"people\", \"people\", \"pieces\", \"pieces\", \"pieces\", \"pieces\", \"pink\", \"place\", \"place\", \"place\", \"place\", \"place\", \"planning\", \"planning\", \"planning\", \"planning\", \"player\", \"polaris\", \"police\", \"police\", \"police\", \"political\", \"political\", \"political\", \"political\", \"pool\", \"pool\", \"pool\", \"pool\", \"pope\", \"premier\", \"president\", \"president\", \"president\", \"president\", \"president\", \"prestige\", \"prestige\", \"problem\", \"problem\", \"problem\", \"problem\", \"proceedings\", \"procurement\", \"procurement\", \"production\", \"production\", \"production\", \"production\", \"production\", \"products\", \"products\", \"products\", \"products\", \"professors\", \"program\", \"program\", \"program\", \"program\", \"property\", \"property\", \"property\", \"property\", \"prosperity\", \"provide\", \"provide\", \"provide\", \"provide\", \"provide\", \"providence\", \"providence\", \"providence\", \"public\", \"public\", \"public\", \"public\", \"puerto\", \"puerto\", \"race\", \"race\", \"radiation\", \"radiation\", \"railroad\", \"range\", \"range\", \"range\", \"range\", \"range\", \"rayburn\", \"recognition\", \"recognition\", \"recommendation\", \"recommendation\", \"recorded\", \"recorded\", \"recreation\", \"recreation\", \"recreation\", \"rehabilitation\", \"republican\", \"republicans\", \"research\", \"research\", \"research\", \"research\", \"research\", \"return\", \"return\", \"return\", \"return\", \"rhode\", \"rhode\", \"rico\", \"rico\", \"right\", \"right\", \"right\", \"right\", \"right\", \"robinson\", \"room\", \"room\", \"room\", \"said\", \"said\", \"said\", \"said\", \"said\", \"sales\", \"sales\", \"sales\", \"sales\", \"sat\", \"sat\", \"sat\", \"savings\", \"savings\", \"school\", \"school\", \"school\", \"school\", \"school\", \"schools\", \"schools\", \"schools\", \"schools\", \"schools\", \"secretary\", \"secretary\", \"secretary\", \"secretary\", \"section\", \"section\", \"section\", \"section\", \"sectors\", \"service\", \"service\", \"service\", \"service\", \"service\", \"services\", \"services\", \"services\", \"services\", \"shall\", \"shall\", \"shall\", \"shall\", \"shall\", \"shares\", \"shares\", \"shares\", \"shelter\", \"shelter\", \"shipments\", \"small\", \"small\", \"small\", \"small\", \"small\", \"son\", \"son\", \"son\", \"son\", \"southern\", \"soviet\", \"soviet\", \"speaker\", \"speaker\", \"speaker\", \"st\", \"st\", \"stared\", \"state\", \"state\", \"state\", \"state\", \"state\", \"states\", \"states\", \"states\", \"states\", \"stations\", \"stations\", \"stations\", \"stockholders\", \"stockholders\", \"student\", \"student\", \"student\", \"student\", \"student\", \"students\", \"students\", \"students\", \"students\", \"students\", \"studio\", \"sun\", \"sun\", \"sun\", \"sure\", \"sure\", \"sure\", \"sure\", \"sweet\", \"system\", \"system\", \"system\", \"system\", \"system\", \"systems\", \"tax\", \"tax\", \"tax\", \"teachers\", \"teachers\", \"teachers\", \"technical\", \"technical\", \"tends\", \"thereof\", \"thought\", \"thought\", \"thought\", \"thought\", \"thought\", \"title\", \"title\", \"title\", \"title\", \"tractor\", \"tractor\", \"treasury\", \"treasury\", \"trees\", \"trees\", \"troops\", \"trust\", \"trust\", \"trust\", \"trust\", \"trustees\", \"unions\", \"unions\", \"unions\", \"united\", \"united\", \"united\", \"united\", \"university\", \"university\", \"university\", \"university\", \"upstairs\", \"use\", \"use\", \"use\", \"use\", \"use\", \"utility\", \"utility\", \"ve\", \"ve\", \"ve\", \"ve\", \"vehicles\", \"vehicles\", \"vehicles\", \"vocational\", \"walls\", \"war\", \"war\", \"war\", \"war\", \"war\", \"wasn\", \"wasn\", \"water\", \"water\", \"water\", \"water\", \"way\", \"way\", \"way\", \"way\", \"way\", \"week\", \"week\", \"week\", \"week\", \"week\", \"went\", \"went\", \"went\", \"west\", \"west\", \"west\", \"windows\", \"woman\", \"woman\", \"woman\", \"work\", \"work\", \"work\", \"work\", \"work\", \"world\", \"world\", \"world\", \"world\", \"world\", \"yankees\", \"yards\", \"yellow\", \"yesterday\", \"yesterday\", \"yesterday\", \"yield\", \"yield\", \"york\", \"york\", \"york\", \"york\", \"york\"]}, \"R\": 30, \"lambda.step\": 0.01, \"plot.opts\": {\"xlab\": \"PC1\", \"ylab\": \"PC2\"}, \"topic.order\": [1, 2, 3, 4, 5]};\n",
       "\n",
       "function LDAvis_load_lib(url, callback){\n",
       "  var s = document.createElement('script');\n",
       "  s.src = url;\n",
       "  s.async = true;\n",
       "  s.onreadystatechange = s.onload = callback;\n",
       "  s.onerror = function(){console.warn(\"failed to load library \" + url);};\n",
       "  document.getElementsByTagName(\"head\")[0].appendChild(s);\n",
       "}\n",
       "\n",
       "if(typeof(LDAvis) !== \"undefined\"){\n",
       "   // already loaded: just create the visualization\n",
       "   !function(LDAvis){\n",
       "       new LDAvis(\"#\" + \"ldavis_el7277113365157104363983946\", ldavis_el7277113365157104363983946_data);\n",
       "   }(LDAvis);\n",
       "}else if(typeof define === \"function\" && define.amd){\n",
       "   // require.js is available: use it to load d3/LDAvis\n",
       "   require.config({paths: {d3: \"https://d3js.org/d3.v5\"}});\n",
       "   require([\"d3\"], function(d3){\n",
       "      window.d3 = d3;\n",
       "      LDAvis_load_lib(\"https://cdn.jsdelivr.net/gh/bmabey/pyLDAvis@3.4.0/pyLDAvis/js/ldavis.v3.0.0.js\", function(){\n",
       "        new LDAvis(\"#\" + \"ldavis_el7277113365157104363983946\", ldavis_el7277113365157104363983946_data);\n",
       "      });\n",
       "    });\n",
       "}else{\n",
       "    // require.js not available: dynamically load d3 & LDAvis\n",
       "    LDAvis_load_lib(\"https://d3js.org/d3.v5.js\", function(){\n",
       "         LDAvis_load_lib(\"https://cdn.jsdelivr.net/gh/bmabey/pyLDAvis@3.4.0/pyLDAvis/js/ldavis.v3.0.0.js\", function(){\n",
       "                 new LDAvis(\"#\" + \"ldavis_el7277113365157104363983946\", ldavis_el7277113365157104363983946_data);\n",
       "            })\n",
       "         });\n",
       "}\n",
       "</script>"
      ],
      "text/plain": [
       "<IPython.core.display.HTML object>"
      ]
     },
     "execution_count": 27,
     "metadata": {},
     "output_type": "execute_result"
    }
   ],
   "source": [
    "pyLDAvis.display(lda_display)"
   ]
  },
  {
   "cell_type": "markdown",
   "id": "a3d14c87",
   "metadata": {},
   "source": [
    "Q: What conclusions do you draw from the visualization above? Please address the principal component scatterplot and the salient terms graph.\n",
    "\n",
    "A: Each bubble represent a document. 5 documensts are addressed on PCA. \n",
    "\n",
    "\t1.\tTopic 00: Focuses on personal narratives and storytelling, aligning strongly with romance and hobbies.\n",
    "\t2.\tTopic 01: Centers on economic and governmental themes, with a strong representation in the government category.\n",
    "\t3.\tTopic 02: Captures political and governmental discussions, aligning well with news and editorial categories.\n",
    "\t4.\tTopic 03: Relates to educational and professional environments, aligning with hobbies, government, and news.\n",
    "\t5.\tTopic 04: Clearly focused on governmental and political themes, with strong representation in the government category.\n"
   ]
  }
 ],
 "metadata": {
  "kernelspec": {
   "display_name": "Python 3 (ipykernel)",
   "language": "python",
   "name": "python3"
  },
  "language_info": {
   "codemirror_mode": {
    "name": "ipython",
    "version": 3
   },
   "file_extension": ".py",
   "mimetype": "text/x-python",
   "name": "python",
   "nbconvert_exporter": "python",
   "pygments_lexer": "ipython3",
   "version": "3.8.16"
  }
 },
 "nbformat": 4,
 "nbformat_minor": 5
}
