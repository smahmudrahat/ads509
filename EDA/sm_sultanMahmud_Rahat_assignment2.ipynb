{
 "cells": [
  {
   "cell_type": "markdown",
   "id": "7f79baf9",
   "metadata": {},
   "source": [
    "# ADS 509 Assignment 2.1: Tokenization, Normalization, Descriptive Statistics \n",
    "\n",
    "This notebook holds Assignment 2.1 for Module 2 in ADS 509, Applied Text Mining. Work through this notebook, writing code and answering questions where required. \n",
    "\n",
    "In the previous assignment you pulled lyrics data on two artists. In this assignment we explore this data set and a pull from the now-defunct Twitter API for the artists Cher and Robyn.  If, for some reason, you did not complete that previous assignment, data to use for this assignment can be found in the assignment materials section of Canvas. \n",
    "\n",
    "This assignment asks you to write a short function to calculate some descriptive statistics on a piece of text. Then you are asked to find some interesting and unique statistics on your corpora. \n"
   ]
  },
  {
   "cell_type": "markdown",
   "id": "aae8e2e1",
   "metadata": {},
   "source": [
    "## General Assignment Instructions\n",
    "\n",
    "These instructions are included in every assignment, to remind you of the coding standards for the class. Feel free to delete this cell after reading it. \n",
    "\n",
    "One sign of mature code is conforming to a style guide. We recommend the [Google Python Style Guide](https://google.github.io/styleguide/pyguide.html). If you use a different style guide, please include a cell with a link. \n",
    "\n",
    "Your code should be relatively easy-to-read, sensibly commented, and clean. Writing code is a messy process, so please be sure to edit your final submission. Remove any cells that are not needed or parts of cells that contain unnecessary code. Remove inessential `import` statements and make sure that all such statements are moved into the designated cell. \n",
    "\n",
    "Make use of non-code cells for written commentary. These cells should be grammatical and clearly written. In some of these cells you will have questions to answer. The questions will be marked by a \"Q:\" and will have a corresponding \"A:\" spot for you. *Make sure to answer every question marked with a `Q:` for full credit.* \n"
   ]
  },
  {
   "cell_type": "code",
   "execution_count": 2,
   "id": "e2d096b7",
   "metadata": {},
   "outputs": [],
   "source": [
    "import os\n",
    "import re\n",
    "import emoji\n",
    "import pandas as pd\n",
    "import numpy as np\n",
    "import string\n",
    "import re\n",
    "\n",
    "from collections import Counter, defaultdict\n",
    "from nltk.corpus import stopwords\n",
    "from string import punctuation\n",
    "\n",
    "from nltk.corpus import stopwords\n",
    "sw = stopwords.words(\"english\")"
   ]
  },
  {
   "cell_type": "code",
   "execution_count": 137,
   "id": "6b555ab2",
   "metadata": {},
   "outputs": [
    {
     "name": "stderr",
     "output_type": "stream",
     "text": [
      "[nltk_data] Downloading package punkt to\n",
      "[nltk_data]     /Users/smsultanmahmudrahat/nltk_data...\n",
      "[nltk_data]   Package punkt is already up-to-date!\n",
      "[nltk_data] Downloading package stopwords to\n",
      "[nltk_data]     /Users/smsultanmahmudrahat/nltk_data...\n",
      "[nltk_data]   Package stopwords is already up-to-date!\n"
     ]
    }
   ],
   "source": [
    "# Add any additional import statements you need here\n",
    "import os\n",
    "import csv\n",
    "import string\n",
    "from nltk.corpus import stopwords\n",
    "from nltk.tokenize import word_tokenize\n",
    "import nltk\n",
    "nltk.download('punkt')\n",
    "nltk.download('stopwords')\n",
    "from collections import Counter\n",
    "import re\n",
    "\n",
    "\n"
   ]
  },
  {
   "cell_type": "code",
   "execution_count": 138,
   "id": "923b5a86",
   "metadata": {},
   "outputs": [],
   "source": [
    "# change `data_location` to the location of the folder on your machine.\n",
    "#data_location = \"/users/chandler/dropbox/teaching/repos/ads-tm-api-scrape/\"\n",
    "data_location = \"/Users/smsultanmahmudrahat/Downloads/department/text_minning_dep/week_2/M1_Results\"\n",
    "# These subfolders should still work if you correctly stored the \n",
    "# data from the Module 1 assignment\n",
    "twitter_folder = \"/Users/smsultanmahmudrahat/Downloads/department/text_minning_dep/week_2/M1_Results/twitter/\"\n",
    "lyrics_folder = \"/Users/smsultanmahmudrahat/Downloads/department/text_minning_dep/week_2/M1_Results/lyrics/\"\n"
   ]
  },
  {
   "cell_type": "code",
   "execution_count": 139,
   "id": "06522af9",
   "metadata": {},
   "outputs": [],
   "source": [
    "def descriptive_stats(tokens, num_tokens = 5, verbose=True) :\n",
    "    \"\"\"\n",
    "        Given a list of tokens, print number of tokens, number of unique tokens, \n",
    "        number of characters, lexical diversity (https://en.wikipedia.org/wiki/Lexical_diversity), \n",
    "        and num_tokens most common tokens. Return a list with the number of tokens, number\n",
    "        of unique tokens, lexical diversity, and number of characters.\n",
    "    \"\"\"\n",
    "\n",
    "    # Fill in the correct values here. \n",
    "    num_tokens = len(tokens)\n",
    "    num_unique_tokens = len(set(tokens))\n",
    "    lexical_diversity =   num_unique_tokens / num_tokens if num_tokens > 0 else 0 \n",
    "    num_characters =   sum(len(token) for token in tokens)\n",
    "    \n",
    "    if verbose :        \n",
    "        print(f\"There are {num_tokens} tokens in the data.\")\n",
    "        print(f\"There are {num_unique_tokens} unique tokens in the data.\")\n",
    "        print(f\"There are {num_characters} characters in the data.\")\n",
    "        print(f\"The lexical diversity is {lexical_diversity:.3f} in the data.\")\n",
    "    \n",
    "        # print the five most common tokens\n",
    "        \n",
    "    return([num_tokens, num_unique_tokens,\n",
    "            lexical_diversity,\n",
    "            num_characters])"
   ]
  },
  {
   "cell_type": "code",
   "execution_count": 140,
   "id": "59dcf058",
   "metadata": {},
   "outputs": [
    {
     "name": "stdout",
     "output_type": "stream",
     "text": [
      "There are 13 tokens in the data.\n",
      "There are 9 unique tokens in the data.\n",
      "There are 55 characters in the data.\n",
      "The lexical diversity is 0.692 in the data.\n"
     ]
    }
   ],
   "source": [
    "text = \"\"\"here is some example text with other example text here in this text\"\"\".split()\n",
    "assert(descriptive_stats(text, verbose=True)[0] == 13)\n",
    "assert(descriptive_stats(text, verbose=False)[1] == 9)\n",
    "assert(abs(descriptive_stats(text, verbose=False)[2] - 0.69) < 0.02)\n",
    "assert(descriptive_stats(text, verbose=False)[3] == 55)\n"
   ]
  },
  {
   "cell_type": "markdown",
   "id": "d2e7e1a2",
   "metadata": {},
   "source": [
    "Q: Why is it beneficial to use assertion statements in your code? \n",
    "\n",
    "A: <!-- Your answer here -->\n",
    "\n",
    "- Assertion is essential to detecting errors in the early stages of the code. It can help detect problems in the code for the desired variable that may be overlooked and cause issues in deployment. That's why assertion is essential to detecting bugs or getting the desired result before deployment. </br>\n",
    "- It is documentation for the programmer to know what my team wants from me to code. Sometimes, a product needs an optimized version of code, not a naive one. In that time, they give a time bound inside the assertion. Then, after getting the assertions from the team, the programmer knows what the team expects from him. He delivers an optimized version of the code. The team also maintains the product's quality and expectations by inserting assertation. </br>\n",
    "- It is also a great tool for debugging. A programmer can detect a line of code and get information about where and what he needs to fix. </br> \n",
    "\n",
    "\n"
   ]
  },
  {
   "cell_type": "markdown",
   "id": "9d3bf93e",
   "metadata": {},
   "source": [
    "## Data Input\n",
    "\n",
    "Now read in each of the corpora. For the lyrics data, it may be convenient to store the entire contents of the file to make it easier to inspect the titles individually, as you'll do in the last part of the assignment. In the solution, I stored the lyrics data in a dictionary with two dimensions of keys: artist and song. The value was the file contents. A data frame would work equally well. \n",
    "\n",
    "For the Twitter data, we only need the description field for this assignment. Feel free all the descriptions read it into a data structure. In the solution, I stored the descriptions as a dictionary of lists, with the key being the artist. \n",
    "\n",
    "\n"
   ]
  },
  {
   "cell_type": "code",
   "execution_count": 142,
   "id": "c1bf17ba",
   "metadata": {},
   "outputs": [],
   "source": [
    "def load_lyrics(lyrics_folder):\n",
    "    lyrics_data = {}\n",
    "    count = 0\n",
    "\n",
    "    for root, _, files in os.walk(lyrics_folder):\n",
    "        for file in files:\n",
    "            if file.endswith('.txt'):\n",
    "                count += 1\n",
    "                # Extract the artist and song title from the file name\n",
    "                parts = file.split('_')\n",
    "                if len(parts) < 2:\n",
    "                    print(f\"Skipping file due to unexpected name format: {file}\")\n",
    "                    continue  # skip files that don't meet the expected naming convention\n",
    "                artist = parts[0] \n",
    "                song = '_'.join(parts[1:]).replace('.txt', '')\n",
    "                # read the lyrics from the file\n",
    "                #print (f\"processing file:{file}\")\n",
    "                #print (f\"artist:{artist}, Song:{song}\")\n",
    "                \n",
    "                # read the file name \n",
    "                file_path = os.path.join(root, file)\n",
    "                with open(file_path, 'r', encoding='utf-8') as f:\n",
    "                    lyrics = f.read()\n",
    "                # initialize artist dictionary if not present\n",
    "                if artist not in lyrics_data:\n",
    "                    lyrics_data[artist] = {}\n",
    "\n",
    "                # store lyrics\n",
    "                lyrics_data[artist][song] = lyrics\n",
    "                \n",
    "    print(f\"Total files processed: {count}\")\n",
    "    return lyrics_data                "
   ]
  },
  {
   "cell_type": "code",
   "execution_count": 143,
   "id": "39392f17",
   "metadata": {},
   "outputs": [
    {
     "name": "stdout",
     "output_type": "stream",
     "text": [
      "Total files processed: 420\n",
      "Lyrics for 'lovekills' by Robyn:\n",
      "\"Love Kills\"\n",
      "\n",
      "\n",
      "\n",
      "If you're looking for love\n",
      "Get a heart made of steel 'cus you know that love kills\n",
      "Don't go messing with love\n",
      "It'll hurt you for real, don't you know that love kills\n",
      "\n",
      "If you're looking for love\n",
      "Get a heart made of steel 'cus you know that love kills\n",
      "Don't go messing with love\n",
      "It'll hurt you for real, don't you know that love kills\n",
      "\n",
      "Protect yourself, 'cus you'll wreck yourself\n",
      "In this cold, hard world, so check yourself\n",
      "You conceal your dreams and you shield yourself\n",
      "'Til that one kind soul reveals itself\n",
      "\n",
      "Protect yourself, 'cus you'll wreck yourself\n",
      "In this cold, hard world, so check yourself\n",
      "You conceal your dreams and you shield yourself\n",
      "'Til that one kind soul reveals itself\n",
      "\n",
      "If you're looking for love\n",
      "Get a heart made of steel 'cus you know that love kills\n",
      "Don't go messing with love\n",
      "It'll hurt you for real, don't you know that love kills\n",
      "\n",
      "If you're looking for love\n",
      "Get a heart made of steel 'cus you know that love kills\n",
      "Don't go messing with love\n",
      "It'll hurt you for real, don't you know that love kills\n",
      "\n",
      "Mm, and I know when you're in to deep you still think of me, sometimes\n",
      "Stockholm syndrome and misery, there's a penalty for love crimes\n",
      "\n",
      "Protect yourself, 'cus you'll wreck yourself\n",
      "In this cold, hard world, so check yourself\n",
      "You conceal your dreams and you shield yourself\n",
      "'Til that one kind soul reveals itself\n",
      "\n",
      "Protect yourself, 'cus you'll wreck yourself\n",
      "In this cold, hard world, so check yourself\n",
      "You conceal your dreams and you shield yourself\n",
      "'Til that one kind soul reveals itself\n",
      "\n",
      "Protect yourself\n",
      "So check yourself\n",
      "\n",
      "Mm, and I know when you're in to deep, is to think of me, sometimes\n",
      "Stockholm syndrome and misery, there's a penalty for love crimes\n",
      "\n",
      "Protect yourself, 'cus you'll wreck yourself\n",
      "In this cold, hard world, 'cus you know that love kills\n",
      "You conceal your dreams and you shield yourself\n",
      "In this cold, hard world, don't you know that love kills\n",
      "\n",
      "Protect yourself, 'cus you'll wreck yourself\n",
      "In this cold, hard world, 'cus you know that love kills\n",
      "You conceal your dreams and you shield yourself\n",
      "In this cold, hard world, don't you know that love kills\n",
      "\n",
      "Protect yourself, 'cus you'll wreck yourself\n",
      "In this cold, hard world, 'cus you know that love kills\n",
      "You conceal your dreams and you shield yourself\n",
      "In this cold, hard world, don't you know that love kills\n",
      "\n"
     ]
    }
   ],
   "source": [
    "lyrics_folder = \"/Users/smsultanmahmudrahat/Downloads/department/text_minning_dep /week_2/M1_Results/lyrics\"\n",
    "lyrics = load_lyrics(lyrics_folder)\n",
    "# Example usage to print lyrics of a specific song by Cher\n",
    "#print(lyrics)\n",
    "print(\"Lyrics for 'lovekills' by Robyn:\")\n",
    "# a random song from the list of songs by Robyn\n",
    "print(lyrics['robyn']['lovekills'])"
   ]
  },
  {
   "cell_type": "code",
   "execution_count": 145,
   "id": "0b22bcd7",
   "metadata": {},
   "outputs": [],
   "source": [
    "def load_twitter_descriptions(twitter_folder):\n",
    "    descriptions = {}\n",
    "    # Determine the files to process\n",
    "    files_to_process = [f for f in os.listdir(twitter_folder) if \"followers_data.txt\" in f]\n",
    "    print(files_to_process)\n",
    "\n",
    "    for filename in files_to_process:\n",
    "        artist = filename.split(\"_\")[0]  # File name starts with the artist's name\n",
    "        descriptions[artist] = [] \n",
    "        \n",
    "        file_path = os.path.join(twitter_folder, filename)\n",
    "        \n",
    "        with open(file_path, \"r\", encoding=\"utf-8\") as file:\n",
    "            next(file) # skip the header\n",
    "            for line in file:\n",
    "                line = line.replace(\"\\0\", \"\").strip() # remove null characters and strip whitespace \n",
    "                if not line: # skip empty lines\n",
    "                    continue\n",
    "                parts = line.split(\"\\t\") # split the line into parts based on tab character \n",
    "                if len(parts) < 7: # skip lines with less than 7 parts\n",
    "                    continue\n",
    "                description = parts[6].strip() \n",
    "                if description: # add non-empty descriptions\n",
    "                    descriptions[artist].append(description)\n",
    "                \n",
    "    return descriptions\n"
   ]
  },
  {
   "cell_type": "code",
   "execution_count": 146,
   "id": "27e9bab3",
   "metadata": {},
   "outputs": [
    {
     "name": "stdout",
     "output_type": "stream",
     "text": [
      "['cher_followers_data.txt', 'robynkonichiwa_followers_data.txt']\n",
      "cher has 2001090 descriptions.\n",
      "𝙿𝚛𝚘𝚞𝚍 𝚜𝚞𝚙𝚙𝚘𝚛𝚝𝚎𝚛 𝚘𝚏 𝚖𝚎𝚜𝚜𝚢 𝚋𝚞𝚗𝚜 & 𝚕𝚎𝚐𝚐𝚒𝚗𝚐𝚜\n",
      "163㎝／愛かっぷ💜26歳🍒 工〇好きな女の子💓 フォローしてくれたらDMします🧡\n",
      "csu\n",
      "Writer @Washinformer @SpelmanCollege alumna #DCnative Award-winning journalist & PR pro @IABC Fellow & Past Chair IG: bcscomm Email: wibsiler@gmail.com\n",
      "I’m unemployed and live with my parents. MOOPS!\n",
      "----------------------------------------\n",
      "robynkonichiwa has 190033 descriptions.\n",
      "\"I love chill\" •Facebook / Instagram / SoundCloud: AngelxoArts• https://t.co/447okKLKzA…\n",
      "books, movies, music, nature & TV shows. OG Sweetee since '12 thanks to YouTube recommending 'This Feeling' on my homepage ♥️\n",
      "(Am)auteur en herbe 🌱 - juriste en paille 🤡 - Ami des fleurs 🌸🌈 (sans la main verte) - music & books - #morecomingsoon... (si on en voit le bout)\n",
      "This Twitter profile is full of sarcasm and rants with the occasional moan, dont like me dont follow me! KLF Stan Account Aspiring Youth Council rep\n",
      "Flora Youssef - Blogger & Founder Posting review articles about the latest music 🎵 https://t.co/dx4hoIom7T https://t.co/KsplT6mZzs\n",
      "----------------------------------------\n"
     ]
    }
   ],
   "source": [
    "# Specify the folder where the Twitter data is located\n",
    "twitter_folder = \"/Users/smsultanmahmudrahat/Downloads/department/text_minning_dep /week_2/M1_Results/twitter\"\n",
    "\n",
    "# Load descriptions from the files\n",
    "twitter_descriptions = load_twitter_descriptions(twitter_folder)\n",
    "\n",
    "# Print the number of descriptions for each artist and sample descriptions\n",
    "for artist, descs in twitter_descriptions.items():\n",
    "    print(f\"{artist} has {len(descs)} descriptions.\")\n",
    "    for desc in descs[:5]:  # Display the first few descriptions for brevity\n",
    "        print(desc)\n",
    "    print(\"-\" * 40)"
   ]
  },
  {
   "cell_type": "markdown",
   "id": "6a5f3b12",
   "metadata": {},
   "source": [
    "## Data Cleaning\n",
    "\n",
    "Now clean and tokenize your data. Remove punctuation chacters (available in the `punctuation` object in the `string` library), split on whitespace, fold to lowercase, and remove stopwords. Store your cleaned data, which must be accessible as an interable for `descriptive_stats`, in new objects or in new columns in your data frame. \n",
    "\n"
   ]
  },
  {
   "cell_type": "code",
   "execution_count": 147,
   "id": "71c73d86",
   "metadata": {},
   "outputs": [],
   "source": [
    "punctuation = set(punctuation) # speeds up comparison \n"
   ]
  },
  {
   "cell_type": "code",
   "execution_count": 150,
   "id": "b327033a",
   "metadata": {},
   "outputs": [],
   "source": [
    "# create your clean twitter data here\n",
    "from nltk.tokenize import word_tokenize\n",
    "from nltk.corpus import stopwords\n",
    "def clean_and_tokenizer_description (description):\n",
    "    # remove punctuation except for hashtag\n",
    "    description = re.sub(r'(\\#\\w+)', lambda x: x.group(1).replace(' ', ''), description)\n",
    "    translator = str.maketrans(\"\", \"\", string.punctuation.replace('#', ''))\n",
    "    clean_description = description.translate(translator)\n",
    "    \n",
    "    # convert to lowercase\n",
    "    clean_description = clean_description.lower()\n",
    "    \n",
    "    # use regex to tokenize the description \n",
    "    tokens = re.findall(r'\\#\\w+|[a-zA-Z0-9]+', clean_description)\n",
    "\n",
    "    # remove stop words\n",
    "    stop_words = set(stopwords.words('english'))\n",
    "    filtered_tokens = [token for token in tokens if token not in stop_words]\n",
    "    \n",
    "    return filtered_tokens \n",
    "\n",
    "# Now we will apply cleaning function to twitter data \n",
    "def process_twitter_descriptions (twitter_descriptions):\n",
    "    \n",
    "    # initiate a dictionary to store cleaned descriptions\n",
    "    processed_descriptions = {}\n",
    "    \n",
    "    for artist, description in twitter_descriptions.items():\n",
    "        processed_descriptions[artist] = [clean_and_tokenizer_description(desc) for desc in description]\n",
    "    \n",
    "    return processed_descriptions\n",
    "\n",
    "\n"
   ]
  },
  {
   "cell_type": "code",
   "execution_count": 151,
   "id": "ed4bd829",
   "metadata": {},
   "outputs": [
    {
     "name": "stdout",
     "output_type": "stream",
     "text": [
      "Sample descriptions for cher:\n",
      "[]\n",
      "['163', '26', 'dm']\n",
      "['csu']\n",
      "['writer', 'washinformer', 'spelmancollege', 'alumna', '#dcnative', 'awardwinning', 'journalist', 'pr', 'pro', 'iabc', 'fellow', 'past', 'chair', 'ig', 'bcscomm', 'email', 'wibsilergmailcom']\n",
      "['unemployed', 'live', 'parents', 'moops']\n",
      "________________________________________\n",
      "Sample descriptions for robynkonichiwa:\n",
      "['love', 'chill', 'facebook', 'instagram', 'soundcloud', 'angelxoarts', 'httpstco447okklkza']\n",
      "['books', 'movies', 'music', 'nature', 'tv', 'shows', 'og', 'sweetee', 'since', '12', 'thanks', 'youtube', 'recommending', 'feeling', 'homepage']\n",
      "['amauteur', 'en', 'herbe', 'juriste', 'en', 'paille', 'ami', 'des', 'fleurs', 'sans', 'la', 'main', 'verte', 'music', 'books', '#morecomingsoon', 'si', 'en', 'voit', 'le', 'bout']\n",
      "['twitter', 'profile', 'full', 'sarcasm', 'rants', 'occasional', 'moan', 'dont', 'like', 'dont', 'follow', 'klf', 'stan', 'account', 'aspiring', 'youth', 'council', 'rep']\n",
      "['flora', 'youssef', 'blogger', 'founder', 'posting', 'review', 'articles', 'latest', 'music', 'httpstcodx4hoiom7t', 'httpstcoksplt6mzzs']\n",
      "________________________________________\n"
     ]
    }
   ],
   "source": [
    "\n",
    "processed_twitter_descriptions = process_twitter_descriptions(twitter_descriptions)\n",
    "\n",
    "for artist in processed_twitter_descriptions:\n",
    "    print(f\"Sample descriptions for {artist}:\")\n",
    "    \n",
    "    for description in processed_twitter_descriptions[artist][:5]:\n",
    "        print(description)\n",
    "    print (\"_\" * 40)"
   ]
  },
  {
   "cell_type": "code",
   "execution_count": null,
   "id": "e0f22e10",
   "metadata": {},
   "outputs": [],
   "source": [
    "# create your clean lyrics data here\n",
    "\n",
    "from nltk.tokenize import word_tokenize\n",
    "from nltk.corpus import stopwords\n",
    "def clean_and_tokenize(lyrics):\n",
    "    # insert all the punctuations \n",
    "    punctuation = set(string.punctuation) \n",
    "    # remove punctuation \n",
    "    lyrics_clean = \"\".join(ch for ch in lyrics if ch not in punctuation)\n",
    "    \n",
    "    # convert to lowercase\n",
    "    lyrics_clean = lyrics_clean.lower()\n",
    "    \n",
    "    # tokenize lyrics\n",
    "    lyrics_tokens = word_tokenize(lyrics_clean)\n",
    "    \n",
    "    #remove stopwords \n",
    "    stop_word = set(stopwords.words('english'))\n",
    "    \n",
    "    tokens = [token for token in lyrics_tokens if token not in stop_word]\n",
    "    \n",
    "    return tokens \n",
    "\n",
    "# now apply the cleaning and tokenizing function to the lyrics data\n",
    "\n",
    "def process_lyrics_data (lyrics_data):\n",
    "    processed_lyrics = {}\n",
    "    \n",
    "    for artist in lyrics_data:\n",
    "        # each artist data will be inlcuded in aritst key in processed_lyrics dictionary\n",
    "        processed_lyrics[artist] = {}\n",
    "        \n",
    "        # now iterate through each song in the artist \n",
    "        for song, lyrics in lyrics_data[artist].items():\n",
    "            # clean and tokenize the lyrics\n",
    "            tokens = clean_and_tokenize(lyrics)\n",
    "            \n",
    "            processed_lyrics[artist][song] = tokens\n",
    "            \n",
    "    return processed_lyrics"
   ]
  },
  {
   "cell_type": "markdown",
   "id": "f2dd0179",
   "metadata": {},
   "source": [
    "## Basic Descriptive Statistics\n",
    "\n",
    "Call your `descriptive_stats` function on both your lyrics data and your twitter data and for both artists (four total calls). "
   ]
  },
  {
   "cell_type": "code",
   "execution_count": 72,
   "id": "f0bbedd9",
   "metadata": {},
   "outputs": [
    {
     "name": "stdout",
     "output_type": "stream",
     "text": [
      "There are 246 tokens in the data.\n",
      "There are 42 unique tokens in the data.\n",
      "There are 1162 characters in the data.\n",
      "The lexical diversity is 0.171 in the data.\n"
     ]
    }
   ],
   "source": [
    "# calls to descriptive_stats of lyrics are\n",
    "\n",
    "# Load and process the lyrics\n",
    "lyrics_processed = process_lyrics_data(lyrics)\n",
    "\n",
    "# Analyze a specific song\n",
    "tokens = lyrics_processed['robyn']['lovekills']\n",
    "stats = descriptive_stats(tokens, num_tokens=5, verbose=True)\n"
   ]
  },
  {
   "cell_type": "code",
   "execution_count": 104,
   "id": "ba0adcc9",
   "metadata": {},
   "outputs": [
    {
     "name": "stdout",
     "output_type": "stream",
     "text": [
      "stats for cher\n",
      "There are 15745781 tokens in the data.\n",
      "There are 1497190 unique tokens in the data.\n",
      "There are 92693619 characters in the data.\n",
      "The lexical diversity is 0.095 in the data.\n",
      "________________________________________\n",
      "stats for robynkonichiwa\n",
      "There are 1501307 tokens in the data.\n",
      "There are 249949 unique tokens in the data.\n",
      "There are 9112424 characters in the data.\n",
      "The lexical diversity is 0.166 in the data.\n",
      "________________________________________\n"
     ]
    }
   ],
   "source": [
    "# calls to descriptive_stats of twitter are\n",
    "def flatten_descriptions (descriptions):\n",
    "    \"\"\" Flatten a list of list of tokens into a single list of tokens\"\"\"\n",
    "    return [token for sublist in descriptions for token in sublist] \n",
    "# Applying this to each artist's descriptions \n",
    "flattened_descriptions = {artist: flatten_descriptions(descs) for artist, descs in processed_twitter_descriptions.items()}\n",
    "\n",
    "# calling descriptive_stats on the flattened descriptions\n",
    "for artist, tokens in flattened_descriptions.items():\n",
    "    print (f\"stats for {artist}\")\n",
    "    descriptive_stats(tokens, num_tokens=5, verbose= True)\n",
    "    print (\"_\" * 40)"
   ]
  },
  {
   "cell_type": "code",
   "execution_count": 89,
   "id": "eae326c4",
   "metadata": {},
   "outputs": [
    {
     "data": {
      "text/plain": [
       "15745781"
      ]
     },
     "execution_count": 89,
     "metadata": {},
     "output_type": "execute_result"
    }
   ],
   "source": [
    "len(flattened_descriptions[\"cher\"])"
   ]
  },
  {
   "cell_type": "code",
   "execution_count": 88,
   "id": "4bde40b6",
   "metadata": {},
   "outputs": [
    {
     "data": {
      "text/plain": [
       "1501307"
      ]
     },
     "execution_count": 88,
     "metadata": {},
     "output_type": "execute_result"
    }
   ],
   "source": [
    "len(flattened_descriptions[\"robynkonichiwa\"])"
   ]
  },
  {
   "cell_type": "markdown",
   "id": "46294409",
   "metadata": {},
   "source": [
    "Q: How do you think the \"top 5 words\" would be different if we left stopwords in the data? \n",
    "\n",
    "A: If we left stopwords in the data when calculating the \"top 5 words\" in song titles or lyrics, these common words like \"the,\" \"and,\" \"is,\" \"in,\" and \"of\" would likely dominate the list. \n",
    "\n",
    "---\n",
    "\n",
    "Q: What were your prior beliefs about the lexical diversity between the artists? Does the difference (or lack thereof) in lexical diversity between the artists conform to your prior beliefs? \n",
    "\n",
    "A: Before analyzing the data, I might have anticipated some differences in lexical diversity between artists like Robyn and Cher, assuming these differences could be influenced by their individual lyrical styles and the musical genres they represent. Lexical diversity is a measure of how many different words are used in a given set of lyrics. Seeing that Robyn has a lexical diversity of 0.166 compared to Cher's 0.095 suggests Robyn uses a wider variety of words in her songs than Cher does. This finding aligns with an expectation that artists might vary in their word choice and complexity based on their artistic and musical approaches\n"
   ]
  },
  {
   "cell_type": "markdown",
   "id": "4d4e1ac1",
   "metadata": {},
   "source": [
    "\n",
    "## Specialty Statistics\n",
    "\n",
    "The descriptive statistics we have calculated are quite generic. You will now calculate a handful of statistics tailored to these data.\n",
    "\n",
    "1. Ten most common emojis by artist in the twitter descriptions.\n",
    "1. Ten most common hashtags by artist in the twitter descriptions.\n",
    "1. Five most common words in song titles by artist. \n",
    "1. For each artist, a histogram of song lengths (in terms of number of tokens) \n",
    "\n",
    "We can use the `emoji` library to help us identify emojis and you have been given a function to help you.\n"
   ]
  },
  {
   "cell_type": "code",
   "execution_count": 79,
   "id": "753a5a3e",
   "metadata": {},
   "outputs": [],
   "source": [
    "assert(emoji.is_emoji(\"❤️\"))\n",
    "assert(not emoji.is_emoji(\":-)\"))"
   ]
  },
  {
   "cell_type": "markdown",
   "id": "986fc4c0",
   "metadata": {},
   "source": [
    "### Emojis 😁\n",
    "\n",
    "What are the ten most common emojis by artist in the twitter descriptions? \n"
   ]
  },
  {
   "cell_type": "code",
   "execution_count": 91,
   "id": "990d5135",
   "metadata": {},
   "outputs": [
    {
     "name": "stdout",
     "output_type": "stream",
     "text": [
      " top emoji for: cher\n",
      "❤️ : 14792\n",
      "🏳️‍🌈 : 14156\n",
      "♥ : 10178\n",
      "❤ : 9664\n",
      "✨ : 8393\n",
      "🌈 : 5490\n",
      "🇺🇸 : 3703\n",
      "💙 : 3693\n",
      "💜 : 3511\n",
      "🌊 : 3293\n",
      "________________________________________________________________________________\n",
      " top emoji for: robynkonichiwa\n",
      "🏳️‍🌈 : 1704\n",
      "♥ : 1167\n",
      "❤️ : 990\n",
      "✨ : 756\n",
      "❤ : 653\n",
      "🌈 : 570\n",
      "🎶 : 273\n",
      "🖤 : 213\n",
      "🎧 : 213\n",
      "💜 : 208\n",
      "________________________________________________________________________________\n"
     ]
    }
   ],
   "source": [
    "# top most common emoji \n",
    "from collections import Counter\n",
    "def extract_emoji(text):\n",
    "    \"\"\" extract emoji from text \"\"\"\n",
    "    return [char for char in text if char in emoji.EMOJI_DATA]\n",
    "\n",
    "def count_emoji_by_artist (descriptions): \n",
    "    \"\"\" count emoji by artist \"\"\"\n",
    "    emoji_counts = {}\n",
    "    for artist, description in descriptions.items():\n",
    "        all_emoji = [] \n",
    "        for desc in description: # each token are filterd in a description\n",
    "            all_emoji.extend(extract_emoji(desc))\n",
    "        emoji_counts[artist] = Counter(all_emoji).most_common(10)\n",
    "    return emoji_counts \n",
    "\n",
    "emoji_usage_by_artist = count_emoji_by_artist(processed_twitter_descriptions)\n",
    "\n",
    "for artist, emoji in emoji_usage_by_artist.items():\n",
    "    print (f\" top emoji for: {artist}\")\n",
    "    for emoji, count in emoji:\n",
    "        print (f\"{emoji} : {count}\")\n",
    "    print (\"__\"*40)"
   ]
  },
  {
   "cell_type": "markdown",
   "id": "bab9b770",
   "metadata": {},
   "source": [
    "### Hashtags\n",
    "\n",
    "What are the ten most common hashtags by artist in the twitter descriptions? \n"
   ]
  },
  {
   "cell_type": "code",
   "execution_count": 152,
   "id": "25461861",
   "metadata": {},
   "outputs": [
    {
     "name": "stdout",
     "output_type": "stream",
     "text": [
      "Top hashtags for cher:\n",
      "#resist: 11593\n",
      "#blm: 10423\n",
      "#blacklivesmatter: 8151\n",
      "#theresistance: 3500\n",
      "#fbr: 3403\n",
      "#resistance: 3039\n",
      "#1: 2577\n",
      "#voteblue: 2300\n",
      "#lgbtq: 2032\n",
      "#bidenharris: 1679\n",
      "----------------------------------------\n",
      "Top hashtags for robynkonichiwa:\n",
      "#blacklivesmatter: 602\n",
      "#blm: 360\n",
      "#music: 306\n",
      "#1: 198\n",
      "#teamfollowback: 134\n",
      "#edm: 111\n",
      "#lgbtq: 88\n",
      "#resist: 85\n",
      "#art: 72\n",
      "#love: 72\n",
      "----------------------------------------\n"
     ]
    }
   ],
   "source": [
    "# active\n",
    "def clean_and_tokenize_description(description):\n",
    "    # remove punctuation except for hashtags\n",
    "    # first, ensure that hashtags are not broken apart during tokenization\n",
    "    description = re.sub(r'#(\\w+)', r'#\\1', description)\n",
    "    translator = str.maketrans(\"\", \"\", string.punctuation.replace('#', ''))  # Preserve '#' for hashtags\n",
    "    clean_description = description.translate(translator)\n",
    "    \n",
    "    # Convert to lowercase\n",
    "    clean_description = clean_description.lower()\n",
    "    \n",
    "    # Tokenize the description \n",
    "    tokens = re.findall(r'\\#\\w+|[a-zA-Z0-9]+', clean_description)\n",
    "    \n",
    "    # Remove stop words, keeping hashtags intact\n",
    "    stop_words = set(stopwords.words('english'))\n",
    "    filtered_tokens = [token for token in tokens if token not in stop_words and not token.startswith('#')]\n",
    "    \n",
    "    # Extract and preserve hashtags separately to ensure they are not lost\n",
    "    hashtags = [token for token in tokens if token.startswith('#')]\n",
    "    \n",
    "    return filtered_tokens, hashtags\n",
    "\n",
    "# Now apply cleaning function to twitter data and extract hashtags\n",
    "def process_twitter_descriptions(twitter_descriptions):\n",
    "    processed_descriptions = {}\n",
    "    hashtags_by_artist = {}\n",
    "\n",
    "    for artist, descriptions in twitter_descriptions.items():\n",
    "        processed_descriptions[artist] = []\n",
    "        all_hashtags = []\n",
    "\n",
    "        for desc in descriptions:\n",
    "            tokens, hashtags = clean_and_tokenize_description(desc)\n",
    "            processed_descriptions[artist].append(tokens)\n",
    "            all_hashtags.extend(hashtags)\n",
    "\n",
    "        hashtags_by_artist[artist] = all_hashtags\n",
    "    \n",
    "    return processed_descriptions, hashtags_by_artist\n",
    "\n",
    "# Assuming twitter_descriptions is already filled with your data\n",
    "processed_twitter_descriptions, hashtags_by_artist = process_twitter_descriptions(twitter_descriptions)\n",
    "\n",
    "# Analyze hashtag usage\n",
    "for artist, hashtags in hashtags_by_artist.items():\n",
    "    print(f\"Top hashtags for {artist}:\")\n",
    "    hashtag_count = Counter(hashtags)\n",
    "    top_hashtags = hashtag_count.most_common(10)\n",
    "    for hashtag, count in top_hashtags:\n",
    "        print(f\"{hashtag}: {count}\")\n",
    "    print(\"-\" * 40)\n"
   ]
  },
  {
   "cell_type": "markdown",
   "id": "d10f21d5",
   "metadata": {},
   "source": [
    "### Song Titles\n",
    "\n",
    "What are the five most common words in song titles by artist? The song titles should be on the first line of the lyrics pages, so if you have kept the raw file contents around, you will not need to re-read the data.\n"
   ]
  },
  {
   "cell_type": "code",
   "execution_count": 182,
   "id": "bb69b36b",
   "metadata": {},
   "outputs": [
    {
     "name": "stdout",
     "output_type": "stream",
     "text": [
      "Top 5 words in song titles for robyn:\n",
      "love: 6\n",
      "u: 4\n",
      "hang: 3\n",
      "tell: 3\n",
      "girl: 3\n",
      "__________________________________________________\n",
      "Top 5 words in song titles for cher:\n",
      "love: 38\n",
      "man: 15\n",
      "song: 11\n",
      "come: 7\n",
      "one: 7\n",
      "__________________________________________________\n"
     ]
    }
   ],
   "source": [
    "# Your code here\n",
    "\n",
    "from nltk.corpus import stopwords\n",
    "title_data ={}\n",
    "word_count_by_artist = {}\n",
    "# song tille of the lyrics of each artist \n",
    "for artist in lyrics:\n",
    "    # initialze a list to store the song titles of this artist\n",
    "    title_data[artist] = [] \n",
    "    word_count_by_artist[artist] = Counter()\n",
    "    for song in lyrics[artist]:\n",
    "        # song title of the lyrics of each artist\n",
    "        first_line = lyrics[artist][song].split('\\n', 1)[0].strip()\n",
    "        title = first_line if first_line else song \n",
    "        \n",
    "        # tokenize the title of each song and store it in a list\n",
    "        # lowercase the words in the title\n",
    "        tokens = re.findall(r'\\b\\w+\\b', title.lower())\n",
    "        # remove stop words\n",
    "        stop_words = set(stopwords.words('english'))\n",
    "        tokens =[token for token in tokens if token not in stop_words]\n",
    "\n",
    "        # store the song title of each artist in a list        \n",
    "        # counting word for each song tile of each artist\n",
    "        word_count_by_artist[artist].update(tokens)\n",
    "\n",
    "for artist, counter in word_count_by_artist.items():\n",
    "    print(f\"Top 5 words in song titles for {artist}:\")\n",
    "    for word, count in counter.most_common(5):\n",
    "        print(f\"{word}: {count}\")\n",
    "    print (\"_\"*50)\n"
   ]
  },
  {
   "cell_type": "markdown",
   "id": "5dd4fd71",
   "metadata": {},
   "source": [
    "### Song Lengths\n",
    "\n",
    "For each artist, a histogram of song lengths (in terms of number of tokens). If you put the song lengths in a data frame with an artist column, matplotlib will make the plotting quite easy. An example is given to help you out. \n"
   ]
  },
  {
   "cell_type": "code",
   "execution_count": 169,
   "id": "805a1e52",
   "metadata": {},
   "outputs": [
    {
     "data": {
      "text/plain": [
       "artist\n",
       "Artist 1    Axes(0.125,0.11;0.775x0.77)\n",
       "Artist 2    Axes(0.125,0.11;0.775x0.77)\n",
       "Name: length, dtype: object"
      ]
     },
     "execution_count": 169,
     "metadata": {},
     "output_type": "execute_result"
    },
    {
     "data": {
      "image/png": "[encoded data removed]",
      "text/plain": [
       "<Figure size 640x480 with 1 Axes>"
      ]
     },
     "metadata": {},
     "output_type": "display_data"
    }
   ],
   "source": [
    "num_replicates = 1000\n",
    "\n",
    "df = pd.DataFrame({\n",
    "    \"artist\" : ['Artist 1'] * num_replicates + ['Artist 2']*num_replicates,\n",
    "    \"length\" : np.concatenate((np.random.poisson(125,num_replicates),np.random.poisson(150,num_replicates)))\n",
    "})\n",
    "\n",
    "df.groupby('artist')['length'].plot(kind=\"hist\",density=True,alpha=0.5,legend=True)"
   ]
  },
  {
   "cell_type": "markdown",
   "id": "8fde9ebb",
   "metadata": {},
   "source": [
    "Since the lyrics may be stored with carriage returns or tabs, it may be useful to have a function that can collapse whitespace, using regular expressions, and be used for splitting. \n",
    "\n",
    "Q: What does the regular expression `'\\s+'` match on? \n",
    "\n",
    "A: The regular expression '\\s+' is used to match one or more whitespace characters in a text. Whitespace characters include spaces, tabs, new lines, and similar spacing formats. The + sign in the expression means \"one or more,\" so this pattern will find sequences of any length where there are continuous whitespace characters. Lyrics may include extra spaces, tabs, or carriage returns. To accurately count words (tokens), we need to normalize these whitespaces using regular expressions by `'\\s+'` \n"
   ]
  },
  {
   "cell_type": "code",
   "execution_count": null,
   "id": "f0e34516",
   "metadata": {},
   "outputs": [],
   "source": [
    "collapse_whitespace = re.compile(r'\\s+')\n",
    "\n",
    "def tokenize_lyrics(lyric) : \n",
    "    \"\"\"strip and split on whitespace\"\"\"\n",
    "    return([item.lower() for item in collapse_whitespace.split(lyric)])"
   ]
  },
  {
   "cell_type": "code",
   "execution_count": 181,
   "id": "2294c440",
   "metadata": {},
   "outputs": [
    {
     "data": {
      "image/png": "[encoded data removed]",
      "text/plain": [
       "<Figure size 640x480 with 1 Axes>"
      ]
     },
     "metadata": {},
     "output_type": "display_data"
    }
   ],
   "source": [
    "# Your lyric length comparison chart here. \n",
    "import pandas as pd \n",
    "import matplotlib.pyplot as plt\n",
    "import re \n",
    "\n",
    "def collapse_whitespace(text):\n",
    "    \"\"\" This function will help to reduce whitespace from the text\"\"\"\n",
    "    return re.sub(r'\\s+', ' ', text) \n",
    "\n",
    "def tokenize (text):\n",
    "    \"\"\" This function will help to tokenize the text on whitespace \"\"\" \n",
    "    return collapse_whitespace(text).split() \n",
    "\n",
    "# 'lyrics' is a dictionary formatted as {'artist': {'song': 'lyrics...'}, ...}\n",
    "song_lengths = []\n",
    "\n",
    "for artist, songs in lyrics.items():\n",
    "    for song, text in songs.items():\n",
    "        tokens = tokenize(text)\n",
    "        song_lengths.append({\"Artist\": artist, \"Song Length\": len(tokens)})  \n",
    "\n",
    "df = pd.DataFrame(song_lengths)\n",
    "\n",
    "# Plotting combined histograms with density=True for probability density\n",
    "ax = df.groupby('Artist')['Song Length'].plot(kind='hist', density=True, alpha=0.5, legend=True, bins=20)\n",
    "plt.xlabel('Song Length (number of tokens)')\n",
    "plt.ylabel('Density')\n",
    "plt.title('Song Length Distribution by Artist')\n",
    "plt.legend(title='Artist')\n",
    "plt.show()\n"
   ]
  }
 ],
 "metadata": {
  "kernelspec": {
   "display_name": "Python 3 (ipykernel)",
   "language": "python",
   "name": "python3"
  },
  "language_info": {
   "codemirror_mode": {
    "name": "ipython",
    "version": 3
   },
   "file_extension": ".py",
   "mimetype": "text/x-python",
   "name": "python",
   "nbconvert_exporter": "python",
   "pygments_lexer": "ipython3",
   "version": "3.8.16"
  }
 },
 "nbformat": 4,
 "nbformat_minor": 5
}
